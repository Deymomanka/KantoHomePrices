{
 "cells": [
  {
   "cell_type": "code",
   "execution_count": 1905,
   "id": "2e03e52e-3b2c-4bb6-9c76-fd0e58c30cce",
   "metadata": {},
   "outputs": [],
   "source": [
    "import pandas as pd\n",
    "import numpy as np\n",
    "from matplotlib import pyplot as plt\n",
    "%matplotlib inline\n",
    "import matplotlib \n",
    "matplotlib.rcParams[\"figure.figsize\"] = (20,10)"
   ]
  },
  {
   "cell_type": "code",
   "execution_count": 1906,
   "id": "dd1c36a2-64f3-4063-ad8e-7690af28ed09",
   "metadata": {},
   "outputs": [
    {
     "data": {
      "text/html": [
       "<div>\n",
       "<style scoped>\n",
       "    .dataframe tbody tr th:only-of-type {\n",
       "        vertical-align: middle;\n",
       "    }\n",
       "\n",
       "    .dataframe tbody tr th {\n",
       "        vertical-align: top;\n",
       "    }\n",
       "\n",
       "    .dataframe thead th {\n",
       "        text-align: right;\n",
       "    }\n",
       "</style>\n",
       "<table border=\"1\" class=\"dataframe\">\n",
       "  <thead>\n",
       "    <tr style=\"text-align: right;\">\n",
       "      <th></th>\n",
       "      <th>標準地番号</th>\n",
       "      <th>標準地の地積</th>\n",
       "      <th>合計価格</th>\n",
       "      <th>間口</th>\n",
       "      <th>奥行</th>\n",
       "      <th>標準地の利用</th>\n",
       "      <th>構造_1</th>\n",
       "    </tr>\n",
       "  </thead>\n",
       "  <tbody>\n",
       "    <tr>\n",
       "      <th>0</th>\n",
       "      <td>あきる野</td>\n",
       "      <td>109</td>\n",
       "      <td>91124000</td>\n",
       "      <td>1.2</td>\n",
       "      <td>1.0</td>\n",
       "      <td>住宅</td>\n",
       "      <td>W</td>\n",
       "    </tr>\n",
       "    <tr>\n",
       "      <th>1</th>\n",
       "      <td>あきる野</td>\n",
       "      <td>325</td>\n",
       "      <td>193700000</td>\n",
       "      <td>1.5</td>\n",
       "      <td>1.0</td>\n",
       "      <td>住宅</td>\n",
       "      <td>W</td>\n",
       "    </tr>\n",
       "    <tr>\n",
       "      <th>2</th>\n",
       "      <td>あきる野</td>\n",
       "      <td>196</td>\n",
       "      <td>136416000</td>\n",
       "      <td>1.0</td>\n",
       "      <td>1.0</td>\n",
       "      <td>住宅</td>\n",
       "      <td>W</td>\n",
       "    </tr>\n",
       "    <tr>\n",
       "      <th>3</th>\n",
       "      <td>あきる野</td>\n",
       "      <td>121</td>\n",
       "      <td>79981000</td>\n",
       "      <td>1.0</td>\n",
       "      <td>1.2</td>\n",
       "      <td>住宅</td>\n",
       "      <td>W</td>\n",
       "    </tr>\n",
       "    <tr>\n",
       "      <th>4</th>\n",
       "      <td>あきる野</td>\n",
       "      <td>119</td>\n",
       "      <td>82705000</td>\n",
       "      <td>1.0</td>\n",
       "      <td>1.2</td>\n",
       "      <td>住宅</td>\n",
       "      <td>W</td>\n",
       "    </tr>\n",
       "  </tbody>\n",
       "</table>\n",
       "</div>"
      ],
      "text/plain": [
       "  標準地番号  標準地の地積       合計価格   間口   奥行 標準地の利用 構造_1\n",
       "0  あきる野     109   91124000  1.2  1.0     住宅    W\n",
       "1  あきる野     325  193700000  1.5  1.0     住宅    W\n",
       "2  あきる野     196  136416000  1.0  1.0     住宅    W\n",
       "3  あきる野     121   79981000  1.0  1.2     住宅    W\n",
       "4  あきる野     119   82705000  1.0  1.2     住宅    W"
      ]
     },
     "execution_count": 1906,
     "metadata": {},
     "output_type": "execute_result"
    }
   ],
   "source": [
    "df1 = pd.read_csv(\"PricePredModel.csv\")\n",
    "df1.head()"
   ]
  },
  {
   "cell_type": "code",
   "execution_count": 1907,
   "id": "e8401f6f-3da2-4892-ad60-da489d0fa113",
   "metadata": {},
   "outputs": [
    {
     "data": {
      "text/plain": [
       "(2663, 7)"
      ]
     },
     "execution_count": 1907,
     "metadata": {},
     "output_type": "execute_result"
    }
   ],
   "source": [
    "df1.shape"
   ]
  },
  {
   "cell_type": "code",
   "execution_count": 1908,
   "id": "030b0b8d-0039-4fe6-9685-a67838525862",
   "metadata": {},
   "outputs": [
    {
     "data": {
      "text/plain": [
       "標準地番号     0\n",
       "標準地の地積    0\n",
       "合計価格      0\n",
       "間口        0\n",
       "奥行        0\n",
       "標準地の利用    0\n",
       "構造_1      0\n",
       "dtype: int64"
      ]
     },
     "execution_count": 1908,
     "metadata": {},
     "output_type": "execute_result"
    }
   ],
   "source": [
    "df1.isnull().sum()"
   ]
  },
  {
   "cell_type": "code",
   "execution_count": 1909,
   "id": "3b67bf43-c5ad-4acb-a436-947cd81cd005",
   "metadata": {},
   "outputs": [
    {
     "data": {
      "text/plain": [
       "100"
      ]
     },
     "execution_count": 1909,
     "metadata": {},
     "output_type": "execute_result"
    }
   ],
   "source": [
    "len(df1['標準地番号'].unique())"
   ]
  },
  {
   "cell_type": "code",
   "execution_count": 1910,
   "id": "4daedaa7-96f2-4940-ab7a-4355cf98437b",
   "metadata": {},
   "outputs": [
    {
     "data": {
      "text/plain": [
       "標準地番号\n",
       "八王子    108\n",
       "世田谷    104\n",
       "練馬      81\n",
       "船橋      76\n",
       "足立      72\n",
       "      ... \n",
       "茂原       2\n",
       "日の出      2\n",
       "新島       1\n",
       "八丈       1\n",
       "東金       1\n",
       "Name: 標準地番号, Length: 100, dtype: int64"
      ]
     },
     "execution_count": 1910,
     "metadata": {},
     "output_type": "execute_result"
    }
   ],
   "source": [
    "df1['標準地番号'] = df1['標準地番号'].apply(lambda x: x.strip())\n",
    "\n",
    "location_stats = df1.groupby('標準地番号')['標準地番号'].agg('count').sort_values(ascending=False)\n",
    "location_stats "
   ]
  },
  {
   "cell_type": "code",
   "execution_count": 1911,
   "id": "af4aa90f-45d2-400f-9105-c41e3545c17c",
   "metadata": {},
   "outputs": [
    {
     "data": {
      "text/plain": [
       "70"
      ]
     },
     "execution_count": 1911,
     "metadata": {},
     "output_type": "execute_result"
    }
   ],
   "source": [
    "len(location_stats[location_stats <=30])"
   ]
  },
  {
   "cell_type": "code",
   "execution_count": 1912,
   "id": "4e0a80ec-2632-461e-8a88-52f0afe23162",
   "metadata": {},
   "outputs": [
    {
     "data": {
      "text/plain": [
       "標準地番号\n",
       "豊島      30\n",
       "三鷹      28\n",
       "立川      28\n",
       "多摩      27\n",
       "横浜青葉    27\n",
       "        ..\n",
       "茂原       2\n",
       "日の出      2\n",
       "新島       1\n",
       "八丈       1\n",
       "東金       1\n",
       "Name: 標準地番号, Length: 70, dtype: int64"
      ]
     },
     "execution_count": 1912,
     "metadata": {},
     "output_type": "execute_result"
    }
   ],
   "source": [
    "location_stats_less_than_30 = location_stats[location_stats <=30]\n",
    "location_stats_less_than_30"
   ]
  },
  {
   "cell_type": "code",
   "execution_count": 1913,
   "id": "de0e37d9-4bbb-4333-b1c0-74000bed91ba",
   "metadata": {},
   "outputs": [
    {
     "data": {
      "text/plain": [
       "31"
      ]
     },
     "execution_count": 1913,
     "metadata": {},
     "output_type": "execute_result"
    }
   ],
   "source": [
    "df1['標準地番号'] = df1['標準地番号'].apply(lambda x: \"その他\" if x in location_stats_less_than_30 else x)\n",
    "len(df1['標準地番号'].unique())"
   ]
  },
  {
   "cell_type": "code",
   "execution_count": 1914,
   "id": "0af9afb2-1b3a-4037-80d8-daa914456fd7",
   "metadata": {},
   "outputs": [
    {
     "data": {
      "text/html": [
       "<div>\n",
       "<style scoped>\n",
       "    .dataframe tbody tr th:only-of-type {\n",
       "        vertical-align: middle;\n",
       "    }\n",
       "\n",
       "    .dataframe tbody tr th {\n",
       "        vertical-align: top;\n",
       "    }\n",
       "\n",
       "    .dataframe thead th {\n",
       "        text-align: right;\n",
       "    }\n",
       "</style>\n",
       "<table border=\"1\" class=\"dataframe\">\n",
       "  <thead>\n",
       "    <tr style=\"text-align: right;\">\n",
       "      <th></th>\n",
       "      <th>標準地番号</th>\n",
       "      <th>標準地の地積</th>\n",
       "      <th>合計価格</th>\n",
       "      <th>間口</th>\n",
       "      <th>奥行</th>\n",
       "      <th>標準地の利用</th>\n",
       "      <th>構造_1</th>\n",
       "      <th>１平方メートル当たりの価格</th>\n",
       "    </tr>\n",
       "  </thead>\n",
       "  <tbody>\n",
       "    <tr>\n",
       "      <th>0</th>\n",
       "      <td>その他</td>\n",
       "      <td>109</td>\n",
       "      <td>91124000</td>\n",
       "      <td>1.2</td>\n",
       "      <td>1.0</td>\n",
       "      <td>住宅</td>\n",
       "      <td>W</td>\n",
       "      <td>836000.0</td>\n",
       "    </tr>\n",
       "    <tr>\n",
       "      <th>1</th>\n",
       "      <td>その他</td>\n",
       "      <td>325</td>\n",
       "      <td>193700000</td>\n",
       "      <td>1.5</td>\n",
       "      <td>1.0</td>\n",
       "      <td>住宅</td>\n",
       "      <td>W</td>\n",
       "      <td>596000.0</td>\n",
       "    </tr>\n",
       "    <tr>\n",
       "      <th>2</th>\n",
       "      <td>その他</td>\n",
       "      <td>196</td>\n",
       "      <td>136416000</td>\n",
       "      <td>1.0</td>\n",
       "      <td>1.0</td>\n",
       "      <td>住宅</td>\n",
       "      <td>W</td>\n",
       "      <td>696000.0</td>\n",
       "    </tr>\n",
       "    <tr>\n",
       "      <th>3</th>\n",
       "      <td>その他</td>\n",
       "      <td>121</td>\n",
       "      <td>79981000</td>\n",
       "      <td>1.0</td>\n",
       "      <td>1.2</td>\n",
       "      <td>住宅</td>\n",
       "      <td>W</td>\n",
       "      <td>661000.0</td>\n",
       "    </tr>\n",
       "    <tr>\n",
       "      <th>4</th>\n",
       "      <td>その他</td>\n",
       "      <td>119</td>\n",
       "      <td>82705000</td>\n",
       "      <td>1.0</td>\n",
       "      <td>1.2</td>\n",
       "      <td>住宅</td>\n",
       "      <td>W</td>\n",
       "      <td>695000.0</td>\n",
       "    </tr>\n",
       "  </tbody>\n",
       "</table>\n",
       "</div>"
      ],
      "text/plain": [
       "  標準地番号  標準地の地積       合計価格   間口   奥行 標準地の利用 構造_1  １平方メートル当たりの価格\n",
       "0   その他     109   91124000  1.2  1.0     住宅    W       836000.0\n",
       "1   その他     325  193700000  1.5  1.0     住宅    W       596000.0\n",
       "2   その他     196  136416000  1.0  1.0     住宅    W       696000.0\n",
       "3   その他     121   79981000  1.0  1.2     住宅    W       661000.0\n",
       "4   その他     119   82705000  1.0  1.2     住宅    W       695000.0"
      ]
     },
     "execution_count": 1914,
     "metadata": {},
     "output_type": "execute_result"
    }
   ],
   "source": [
    "df2 = df1.copy()\n",
    "df2['１平方メートル当たりの価格'] = df1['合計価格']/df1['標準地の地積']\n",
    "df2.head(5)"
   ]
  },
  {
   "cell_type": "code",
   "execution_count": 1915,
   "id": "e5708546-8383-43ac-add6-3ae6a51b1e0d",
   "metadata": {},
   "outputs": [
    {
     "data": {
      "text/plain": [
       "構造_1\n",
       "W      1602\n",
       "RC      385\n",
       "LS      307\n",
       "S       280\n",
       "SRC      88\n",
       "B         1\n",
       "Name: 構造_1, dtype: int64"
      ]
     },
     "execution_count": 1915,
     "metadata": {},
     "output_type": "execute_result"
    }
   ],
   "source": [
    "str_stats = df2.groupby('構造_1')['構造_1'].agg('count').sort_values(ascending=False)\n",
    "str_stats "
   ]
  },
  {
   "cell_type": "code",
   "execution_count": 1916,
   "id": "2f306af2-0f60-4df6-b19f-9e43380241a5",
   "metadata": {},
   "outputs": [
    {
     "data": {
      "text/html": [
       "<div>\n",
       "<style scoped>\n",
       "    .dataframe tbody tr th:only-of-type {\n",
       "        vertical-align: middle;\n",
       "    }\n",
       "\n",
       "    .dataframe tbody tr th {\n",
       "        vertical-align: top;\n",
       "    }\n",
       "\n",
       "    .dataframe thead th {\n",
       "        text-align: right;\n",
       "    }\n",
       "</style>\n",
       "<table border=\"1\" class=\"dataframe\">\n",
       "  <thead>\n",
       "    <tr style=\"text-align: right;\">\n",
       "      <th></th>\n",
       "      <th>標準地番号</th>\n",
       "      <th>標準地の地積</th>\n",
       "      <th>合計価格</th>\n",
       "      <th>間口</th>\n",
       "      <th>奥行</th>\n",
       "      <th>標準地の利用</th>\n",
       "      <th>構造_1</th>\n",
       "      <th>１平方メートル当たりの価格</th>\n",
       "    </tr>\n",
       "  </thead>\n",
       "  <tbody>\n",
       "    <tr>\n",
       "      <th>0</th>\n",
       "      <td>その他</td>\n",
       "      <td>109</td>\n",
       "      <td>91124000</td>\n",
       "      <td>1.2</td>\n",
       "      <td>1.0</td>\n",
       "      <td>住宅</td>\n",
       "      <td>W</td>\n",
       "      <td>836000.0</td>\n",
       "    </tr>\n",
       "    <tr>\n",
       "      <th>1</th>\n",
       "      <td>その他</td>\n",
       "      <td>325</td>\n",
       "      <td>193700000</td>\n",
       "      <td>1.5</td>\n",
       "      <td>1.0</td>\n",
       "      <td>住宅</td>\n",
       "      <td>W</td>\n",
       "      <td>596000.0</td>\n",
       "    </tr>\n",
       "    <tr>\n",
       "      <th>2</th>\n",
       "      <td>その他</td>\n",
       "      <td>196</td>\n",
       "      <td>136416000</td>\n",
       "      <td>1.0</td>\n",
       "      <td>1.0</td>\n",
       "      <td>住宅</td>\n",
       "      <td>W</td>\n",
       "      <td>696000.0</td>\n",
       "    </tr>\n",
       "    <tr>\n",
       "      <th>3</th>\n",
       "      <td>その他</td>\n",
       "      <td>121</td>\n",
       "      <td>79981000</td>\n",
       "      <td>1.0</td>\n",
       "      <td>1.2</td>\n",
       "      <td>住宅</td>\n",
       "      <td>W</td>\n",
       "      <td>661000.0</td>\n",
       "    </tr>\n",
       "    <tr>\n",
       "      <th>4</th>\n",
       "      <td>その他</td>\n",
       "      <td>119</td>\n",
       "      <td>82705000</td>\n",
       "      <td>1.0</td>\n",
       "      <td>1.2</td>\n",
       "      <td>住宅</td>\n",
       "      <td>W</td>\n",
       "      <td>695000.0</td>\n",
       "    </tr>\n",
       "  </tbody>\n",
       "</table>\n",
       "</div>"
      ],
      "text/plain": [
       "  標準地番号  標準地の地積       合計価格   間口   奥行 標準地の利用 構造_1  １平方メートル当たりの価格\n",
       "0   その他     109   91124000  1.2  1.0     住宅    W       836000.0\n",
       "1   その他     325  193700000  1.5  1.0     住宅    W       596000.0\n",
       "2   その他     196  136416000  1.0  1.0     住宅    W       696000.0\n",
       "3   その他     121   79981000  1.0  1.2     住宅    W       661000.0\n",
       "4   その他     119   82705000  1.0  1.2     住宅    W       695000.0"
      ]
     },
     "execution_count": 1916,
     "metadata": {},
     "output_type": "execute_result"
    }
   ],
   "source": [
    "keep_strings = ['W', 'RC', 'LC', 'S']\n",
    "#keep_strings = ['住宅']\n",
    "# filter dataframe to only include rows with keep_strings in the 'text' column\n",
    "df2 = df2.loc[df2['構造_1'].isin(keep_strings)]\n",
    "df2.head()"
   ]
  },
  {
   "cell_type": "code",
   "execution_count": 1917,
   "id": "3631c339-f826-4bdc-a163-66e30f8239a8",
   "metadata": {},
   "outputs": [
    {
     "data": {
      "text/plain": [
       "array(['その他', '世田谷', '中野', '八王子', '北', '千葉中央', '品川', '大田', '市原', '市川',\n",
       "       '文京', '新宿', '日野', '杉並', '東京府中', '松戸', '板橋', '柏', '横浜戸塚', '横浜港北',\n",
       "       '横浜港南', '江戸川', '渋谷', '港', '町田', '目黒', '練馬', '船橋', '葛飾', '調布', '足立'],\n",
       "      dtype=object)"
      ]
     },
     "execution_count": 1917,
     "metadata": {},
     "output_type": "execute_result"
    }
   ],
   "source": [
    "df2[\"標準地番号\"].unique()"
   ]
  },
  {
   "cell_type": "code",
   "execution_count": 1918,
   "id": "47315b5b-af31-4344-9303-b472cb6a6c21",
   "metadata": {},
   "outputs": [
    {
     "data": {
      "text/plain": [
       "array(['W', 'S', 'RC'], dtype=object)"
      ]
     },
     "execution_count": 1918,
     "metadata": {},
     "output_type": "execute_result"
    }
   ],
   "source": [
    "df2['構造_1'].unique()"
   ]
  },
  {
   "cell_type": "code",
   "execution_count": 1919,
   "id": "cc9d611a-95d4-435d-8e64-206edb0fc97a",
   "metadata": {},
   "outputs": [
    {
     "data": {
      "text/plain": [
       "count    2.267000e+03\n",
       "mean     4.454601e+05\n",
       "std      4.614626e+05\n",
       "min      1.200000e+04\n",
       "25%      1.880000e+05\n",
       "50%      3.260000e+05\n",
       "75%      5.695000e+05\n",
       "max      9.400000e+06\n",
       "Name: １平方メートル当たりの価格, dtype: float64"
      ]
     },
     "execution_count": 1919,
     "metadata": {},
     "output_type": "execute_result"
    }
   ],
   "source": [
    "df2['１平方メートル当たりの価格'].describe()"
   ]
  },
  {
   "cell_type": "code",
   "execution_count": 1920,
   "id": "a1fab09f-7f65-4d39-90c5-bf85e50671f9",
   "metadata": {},
   "outputs": [
    {
     "data": {
      "text/plain": [
       "(1908, 8)"
      ]
     },
     "execution_count": 1920,
     "metadata": {},
     "output_type": "execute_result"
    }
   ],
   "source": [
    "def remove_pps_outliers(df):\n",
    "    df_out = pd.DataFrame()\n",
    "    for key, subdf in df.groupby('標準地番号'):\n",
    "        m = np.mean(subdf['１平方メートル当たりの価格'])\n",
    "        st = np.std(subdf['１平方メートル当たりの価格'])\n",
    "        reduced_df = subdf[(subdf['１平方メートル当たりの価格']>(m-st)) & (subdf['１平方メートル当たりの価格']<=(m+st))]\n",
    "        df_out = pd.concat([df_out,reduced_df],ignore_index=True)\n",
    "    return df_out\n",
    "\n",
    "df3 = remove_pps_outliers(df2)\n",
    "df3.shape"
   ]
  },
  {
   "cell_type": "code",
   "execution_count": 1921,
   "id": "53a429b8-c630-4ac1-9f47-fcd070701d6d",
   "metadata": {},
   "outputs": [
    {
     "name": "stderr",
     "output_type": "stream",
     "text": [
      "C:\\Users\\deymo\\anaconda3\\lib\\site-packages\\IPython\\core\\pylabtools.py:152: UserWarning: Glyph 19990 (\\N{CJK UNIFIED IDEOGRAPH-4E16}) missing from current font.\n",
      "  fig.canvas.print_figure(bytes_io, **kw)\n",
      "C:\\Users\\deymo\\anaconda3\\lib\\site-packages\\IPython\\core\\pylabtools.py:152: UserWarning: Glyph 30000 (\\N{CJK UNIFIED IDEOGRAPH-7530}) missing from current font.\n",
      "  fig.canvas.print_figure(bytes_io, **kw)\n",
      "C:\\Users\\deymo\\anaconda3\\lib\\site-packages\\IPython\\core\\pylabtools.py:152: UserWarning: Glyph 35895 (\\N{CJK UNIFIED IDEOGRAPH-8C37}) missing from current font.\n",
      "  fig.canvas.print_figure(bytes_io, **kw)\n"
     ]
    },
    {
     "data": {
      "image/png": "[encoded data removed]",
      "text/plain": [
       "<Figure size 1080x720 with 1 Axes>"
      ]
     },
     "metadata": {
      "needs_background": "light"
     },
     "output_type": "display_data"
    }
   ],
   "source": [
    "def plot_scatter_chart(df,location):\n",
    "    bhk2 = df[(df['標準地番号']==location) & (df['構造_1']=='S')]\n",
    "    bhk3 = df[(df['標準地番号']==location) & (df['構造_1']=='RC')]\n",
    "    matplotlib.rcParams['figure.figsize'] = (15,10)\n",
    "    plt.scatter(bhk2['標準地の地積'],bhk2['合計価格'],color='blue',label='S', s=50)\n",
    "    plt.scatter(bhk3['標準地の地積'],bhk3['合計価格'],marker='+', color='green',label='RC', s=50)\n",
    "    plt.xlabel(\"Total Square Feet Area\")\n",
    "    plt.ylabel(\"Price (yen)\")\n",
    "    plt.title(location)\n",
    "    plt.legend()\n",
    "    \n",
    "plot_scatter_chart(df3,\"世田谷\")"
   ]
  },
  {
   "cell_type": "code",
   "execution_count": 1922,
   "id": "0609c9ba-1a79-46c0-b379-268558f16e8c",
   "metadata": {},
   "outputs": [
    {
     "data": {
      "text/plain": [
       "Text(0, 0.5, 'Count')"
      ]
     },
     "execution_count": 1922,
     "metadata": {},
     "output_type": "execute_result"
    },
    {
     "data": {
      "image/png": "[encoded data removed]",
      "text/plain": [
       "<Figure size 1440x720 with 1 Axes>"
      ]
     },
     "metadata": {
      "needs_background": "light"
     },
     "output_type": "display_data"
    }
   ],
   "source": [
    "import matplotlib\n",
    "matplotlib.rcParams[\"figure.figsize\"] = (20,10)\n",
    "plt.hist(df3['１平方メートル当たりの価格'],rwidth=0.8)\n",
    "plt.xlabel(\"Price Per Square Feet\")\n",
    "plt.ylabel(\"Count\")"
   ]
  },
  {
   "cell_type": "code",
   "execution_count": 1923,
   "id": "66844e4d-9825-446a-8b9e-aee42af2c24b",
   "metadata": {},
   "outputs": [
    {
     "data": {
      "text/plain": [
       "Text(0, 0.5, 'Count')"
      ]
     },
     "execution_count": 1923,
     "metadata": {},
     "output_type": "execute_result"
    },
    {
     "name": "stderr",
     "output_type": "stream",
     "text": [
      "C:\\Users\\deymo\\anaconda3\\lib\\site-packages\\IPython\\core\\pylabtools.py:152: UserWarning: Glyph 27083 (\\N{CJK UNIFIED IDEOGRAPH-69CB}) missing from current font.\n",
      "  fig.canvas.print_figure(bytes_io, **kw)\n",
      "C:\\Users\\deymo\\anaconda3\\lib\\site-packages\\IPython\\core\\pylabtools.py:152: UserWarning: Glyph 36896 (\\N{CJK UNIFIED IDEOGRAPH-9020}) missing from current font.\n",
      "  fig.canvas.print_figure(bytes_io, **kw)\n"
     ]
    },
    {
     "data": {
      "image/png": "[encoded data removed]",
      "text/plain": [
       "<Figure size 1440x720 with 1 Axes>"
      ]
     },
     "metadata": {
      "needs_background": "light"
     },
     "output_type": "display_data"
    }
   ],
   "source": [
    "plt.hist(df3['構造_1'],rwidth=0.8)\n",
    "plt.xlabel(\"構造\")\n",
    "plt.ylabel(\"Count\")"
   ]
  },
  {
   "cell_type": "markdown",
   "id": "3ba8eb90-4e93-4f04-8449-e1cdab21a57e",
   "metadata": {},
   "source": [
    "## Use One Hot Encoding For Location"
   ]
  },
  {
   "cell_type": "code",
   "execution_count": 1924,
   "id": "80c46e01-4707-4558-b392-cb602464ebec",
   "metadata": {},
   "outputs": [
    {
     "data": {
      "text/html": [
       "<div>\n",
       "<style scoped>\n",
       "    .dataframe tbody tr th:only-of-type {\n",
       "        vertical-align: middle;\n",
       "    }\n",
       "\n",
       "    .dataframe tbody tr th {\n",
       "        vertical-align: top;\n",
       "    }\n",
       "\n",
       "    .dataframe thead th {\n",
       "        text-align: right;\n",
       "    }\n",
       "</style>\n",
       "<table border=\"1\" class=\"dataframe\">\n",
       "  <thead>\n",
       "    <tr style=\"text-align: right;\">\n",
       "      <th></th>\n",
       "      <th>標準地番号</th>\n",
       "      <th>標準地の地積</th>\n",
       "      <th>合計価格</th>\n",
       "      <th>間口</th>\n",
       "      <th>奥行</th>\n",
       "      <th>標準地の利用</th>\n",
       "      <th>構造_1</th>\n",
       "      <th>１平方メートル当たりの価格</th>\n",
       "    </tr>\n",
       "  </thead>\n",
       "  <tbody>\n",
       "    <tr>\n",
       "      <th>0</th>\n",
       "      <td>その他</td>\n",
       "      <td>325</td>\n",
       "      <td>193700000</td>\n",
       "      <td>1.5</td>\n",
       "      <td>1.0</td>\n",
       "      <td>住宅</td>\n",
       "      <td>W</td>\n",
       "      <td>596000.0</td>\n",
       "    </tr>\n",
       "    <tr>\n",
       "      <th>1</th>\n",
       "      <td>その他</td>\n",
       "      <td>196</td>\n",
       "      <td>136416000</td>\n",
       "      <td>1.0</td>\n",
       "      <td>1.0</td>\n",
       "      <td>住宅</td>\n",
       "      <td>W</td>\n",
       "      <td>696000.0</td>\n",
       "    </tr>\n",
       "    <tr>\n",
       "      <th>2</th>\n",
       "      <td>その他</td>\n",
       "      <td>121</td>\n",
       "      <td>79981000</td>\n",
       "      <td>1.0</td>\n",
       "      <td>1.2</td>\n",
       "      <td>住宅</td>\n",
       "      <td>W</td>\n",
       "      <td>661000.0</td>\n",
       "    </tr>\n",
       "    <tr>\n",
       "      <th>3</th>\n",
       "      <td>その他</td>\n",
       "      <td>119</td>\n",
       "      <td>82705000</td>\n",
       "      <td>1.0</td>\n",
       "      <td>1.2</td>\n",
       "      <td>住宅</td>\n",
       "      <td>W</td>\n",
       "      <td>695000.0</td>\n",
       "    </tr>\n",
       "    <tr>\n",
       "      <th>4</th>\n",
       "      <td>その他</td>\n",
       "      <td>220</td>\n",
       "      <td>47960000</td>\n",
       "      <td>1.0</td>\n",
       "      <td>1.2</td>\n",
       "      <td>店舗、事務所兼住宅</td>\n",
       "      <td>S</td>\n",
       "      <td>218000.0</td>\n",
       "    </tr>\n",
       "  </tbody>\n",
       "</table>\n",
       "</div>"
      ],
      "text/plain": [
       "  標準地番号  標準地の地積       合計価格   間口   奥行     標準地の利用 構造_1  １平方メートル当たりの価格\n",
       "0   その他     325  193700000  1.5  1.0         住宅    W       596000.0\n",
       "1   その他     196  136416000  1.0  1.0         住宅    W       696000.0\n",
       "2   その他     121   79981000  1.0  1.2         住宅    W       661000.0\n",
       "3   その他     119   82705000  1.0  1.2         住宅    W       695000.0\n",
       "4   その他     220   47960000  1.0  1.2  店舗、事務所兼住宅    S       218000.0"
      ]
     },
     "execution_count": 1924,
     "metadata": {},
     "output_type": "execute_result"
    }
   ],
   "source": [
    "df3.head()"
   ]
  },
  {
   "cell_type": "code",
   "execution_count": 1925,
   "id": "2623dca4-027f-4e30-8dc0-f572c7d83a18",
   "metadata": {},
   "outputs": [
    {
     "data": {
      "text/plain": [
       "array(['住宅', '店舗、事務所兼住宅', '共同住宅', '店舗、住宅兼車庫', '店舗兼住宅', '店舗兼共同住宅',\n",
       "       '事務所兼共同住宅', '事務所、倉庫兼住宅', '店舗、事務所兼共同住宅', '事務所、作業所兼共同住宅', '住宅兼工場',\n",
       "       '事務所兼住宅', '作業所、事務所兼住宅', '工場、事務所兼住宅等', '共同住宅兼作業所', '診療所兼住宅',\n",
       "       '作業所兼住宅', '倉庫、事務所兼住宅', '事務所、作業所兼住宅', '倉庫兼共同住宅', '事業所兼住宅',\n",
       "       '店舗、工場兼共同住宅等', '事業所、共同住宅兼住宅', '住宅兼共同住宅', '店舗、共同住宅兼事務所',\n",
       "       '店舗、共同住宅兼倉庫', '住宅兼事務所', '工場兼住宅', '事務所、住宅兼倉庫', '工場、事務所兼住宅',\n",
       "       '事務所、車庫兼共同住宅', '店舗、車庫兼共同住宅', '住宅、工場兼事務所', '店舗、住宅兼共同住宅',\n",
       "       '共同住宅、住宅兼事務所', '店舗、事務所兼共同住宅等', '共同住宅兼住宅', '営業所兼住宅', '医院兼共同住宅',\n",
       "       '住宅兼車庫', '共同住宅兼事務所', '共同住宅兼店舗', '共同住宅兼駐車場', '作業所、住宅兼共同住宅',\n",
       "       '車庫、事務所兼共同住宅', '作業所兼共同住宅', '住宅兼倉庫', '住宅兼作業所', '倉庫兼住宅'],\n",
       "      dtype=object)"
      ]
     },
     "execution_count": 1925,
     "metadata": {},
     "output_type": "execute_result"
    }
   ],
   "source": [
    "df3['標準地の利用'].unique()"
   ]
  },
  {
   "cell_type": "code",
   "execution_count": 1926,
   "id": "78706e57-bb97-4049-97ba-a5c25f6f435c",
   "metadata": {},
   "outputs": [
    {
     "data": {
      "text/html": [
       "<div>\n",
       "<style scoped>\n",
       "    .dataframe tbody tr th:only-of-type {\n",
       "        vertical-align: middle;\n",
       "    }\n",
       "\n",
       "    .dataframe tbody tr th {\n",
       "        vertical-align: top;\n",
       "    }\n",
       "\n",
       "    .dataframe thead th {\n",
       "        text-align: right;\n",
       "    }\n",
       "</style>\n",
       "<table border=\"1\" class=\"dataframe\">\n",
       "  <thead>\n",
       "    <tr style=\"text-align: right;\">\n",
       "      <th></th>\n",
       "      <th>標準地番号</th>\n",
       "      <th>標準地の地積</th>\n",
       "      <th>合計価格</th>\n",
       "      <th>間口</th>\n",
       "      <th>奥行</th>\n",
       "      <th>標準地の利用</th>\n",
       "      <th>構造_1</th>\n",
       "      <th>１平方メートル当たりの価格</th>\n",
       "    </tr>\n",
       "  </thead>\n",
       "  <tbody>\n",
       "    <tr>\n",
       "      <th>0</th>\n",
       "      <td>その他</td>\n",
       "      <td>325</td>\n",
       "      <td>193700000</td>\n",
       "      <td>1.5</td>\n",
       "      <td>1.0</td>\n",
       "      <td>住宅</td>\n",
       "      <td>W</td>\n",
       "      <td>596000.0</td>\n",
       "    </tr>\n",
       "    <tr>\n",
       "      <th>1</th>\n",
       "      <td>その他</td>\n",
       "      <td>196</td>\n",
       "      <td>136416000</td>\n",
       "      <td>1.0</td>\n",
       "      <td>1.0</td>\n",
       "      <td>住宅</td>\n",
       "      <td>W</td>\n",
       "      <td>696000.0</td>\n",
       "    </tr>\n",
       "    <tr>\n",
       "      <th>2</th>\n",
       "      <td>その他</td>\n",
       "      <td>121</td>\n",
       "      <td>79981000</td>\n",
       "      <td>1.0</td>\n",
       "      <td>1.2</td>\n",
       "      <td>住宅</td>\n",
       "      <td>W</td>\n",
       "      <td>661000.0</td>\n",
       "    </tr>\n",
       "    <tr>\n",
       "      <th>3</th>\n",
       "      <td>その他</td>\n",
       "      <td>119</td>\n",
       "      <td>82705000</td>\n",
       "      <td>1.0</td>\n",
       "      <td>1.2</td>\n",
       "      <td>住宅</td>\n",
       "      <td>W</td>\n",
       "      <td>695000.0</td>\n",
       "    </tr>\n",
       "    <tr>\n",
       "      <th>5</th>\n",
       "      <td>その他</td>\n",
       "      <td>163</td>\n",
       "      <td>24287000</td>\n",
       "      <td>1.0</td>\n",
       "      <td>1.5</td>\n",
       "      <td>住宅</td>\n",
       "      <td>W</td>\n",
       "      <td>149000.0</td>\n",
       "    </tr>\n",
       "  </tbody>\n",
       "</table>\n",
       "</div>"
      ],
      "text/plain": [
       "  標準地番号  標準地の地積       合計価格   間口   奥行 標準地の利用 構造_1  １平方メートル当たりの価格\n",
       "0   その他     325  193700000  1.5  1.0     住宅    W       596000.0\n",
       "1   その他     196  136416000  1.0  1.0     住宅    W       696000.0\n",
       "2   その他     121   79981000  1.0  1.2     住宅    W       661000.0\n",
       "3   その他     119   82705000  1.0  1.2     住宅    W       695000.0\n",
       "5   その他     163   24287000  1.0  1.5     住宅    W       149000.0"
      ]
     },
     "execution_count": 1926,
     "metadata": {},
     "output_type": "execute_result"
    }
   ],
   "source": [
    "keep_strings = ['住宅', '共同住宅']\n",
    "#keep_strings = ['住宅']\n",
    "# filter dataframe to only include rows with keep_strings in the 'text' column\n",
    "df4 = df3.loc[df3['標準地の利用'].isin(keep_strings)]\n",
    "df4.head()"
   ]
  },
  {
   "cell_type": "code",
   "execution_count": 1927,
   "id": "7c985fbf-7812-49c1-93b5-3a8d7e6dbe58",
   "metadata": {},
   "outputs": [
    {
     "data": {
      "text/plain": [
       "array(['住宅', '共同住宅'], dtype=object)"
      ]
     },
     "execution_count": 1927,
     "metadata": {},
     "output_type": "execute_result"
    }
   ],
   "source": [
    "df4['標準地の利用'].unique()"
   ]
  },
  {
   "cell_type": "code",
   "execution_count": 1928,
   "id": "4f913325-8c59-4305-ae24-ba703fe7aece",
   "metadata": {},
   "outputs": [
    {
     "data": {
      "text/plain": [
       "array(['W', 'RC', 'S'], dtype=object)"
      ]
     },
     "execution_count": 1928,
     "metadata": {},
     "output_type": "execute_result"
    }
   ],
   "source": [
    "df4[\"構造_1\"].unique()"
   ]
  },
  {
   "cell_type": "code",
   "execution_count": 1929,
   "id": "75415c0d-27b4-4747-9ae7-37b86c1ea7d3",
   "metadata": {
    "tags": []
   },
   "outputs": [
    {
     "data": {
      "text/html": [
       "<div>\n",
       "<style scoped>\n",
       "    .dataframe tbody tr th:only-of-type {\n",
       "        vertical-align: middle;\n",
       "    }\n",
       "\n",
       "    .dataframe tbody tr th {\n",
       "        vertical-align: top;\n",
       "    }\n",
       "\n",
       "    .dataframe thead th {\n",
       "        text-align: right;\n",
       "    }\n",
       "</style>\n",
       "<table border=\"1\" class=\"dataframe\">\n",
       "  <thead>\n",
       "    <tr style=\"text-align: right;\">\n",
       "      <th></th>\n",
       "      <th>世田谷</th>\n",
       "      <th>中野</th>\n",
       "      <th>八王子</th>\n",
       "      <th>北</th>\n",
       "      <th>千葉中央</th>\n",
       "      <th>品川</th>\n",
       "      <th>大田</th>\n",
       "      <th>市原</th>\n",
       "      <th>市川</th>\n",
       "      <th>文京</th>\n",
       "      <th>...</th>\n",
       "      <th>江戸川</th>\n",
       "      <th>渋谷</th>\n",
       "      <th>港</th>\n",
       "      <th>町田</th>\n",
       "      <th>目黒</th>\n",
       "      <th>練馬</th>\n",
       "      <th>船橋</th>\n",
       "      <th>葛飾</th>\n",
       "      <th>調布</th>\n",
       "      <th>足立</th>\n",
       "    </tr>\n",
       "  </thead>\n",
       "  <tbody>\n",
       "    <tr>\n",
       "      <th>0</th>\n",
       "      <td>0</td>\n",
       "      <td>0</td>\n",
       "      <td>0</td>\n",
       "      <td>0</td>\n",
       "      <td>0</td>\n",
       "      <td>0</td>\n",
       "      <td>0</td>\n",
       "      <td>0</td>\n",
       "      <td>0</td>\n",
       "      <td>0</td>\n",
       "      <td>...</td>\n",
       "      <td>0</td>\n",
       "      <td>0</td>\n",
       "      <td>0</td>\n",
       "      <td>0</td>\n",
       "      <td>0</td>\n",
       "      <td>0</td>\n",
       "      <td>0</td>\n",
       "      <td>0</td>\n",
       "      <td>0</td>\n",
       "      <td>0</td>\n",
       "    </tr>\n",
       "    <tr>\n",
       "      <th>1</th>\n",
       "      <td>0</td>\n",
       "      <td>0</td>\n",
       "      <td>0</td>\n",
       "      <td>0</td>\n",
       "      <td>0</td>\n",
       "      <td>0</td>\n",
       "      <td>0</td>\n",
       "      <td>0</td>\n",
       "      <td>0</td>\n",
       "      <td>0</td>\n",
       "      <td>...</td>\n",
       "      <td>0</td>\n",
       "      <td>0</td>\n",
       "      <td>0</td>\n",
       "      <td>0</td>\n",
       "      <td>0</td>\n",
       "      <td>0</td>\n",
       "      <td>0</td>\n",
       "      <td>0</td>\n",
       "      <td>0</td>\n",
       "      <td>0</td>\n",
       "    </tr>\n",
       "    <tr>\n",
       "      <th>2</th>\n",
       "      <td>0</td>\n",
       "      <td>0</td>\n",
       "      <td>0</td>\n",
       "      <td>0</td>\n",
       "      <td>0</td>\n",
       "      <td>0</td>\n",
       "      <td>0</td>\n",
       "      <td>0</td>\n",
       "      <td>0</td>\n",
       "      <td>0</td>\n",
       "      <td>...</td>\n",
       "      <td>0</td>\n",
       "      <td>0</td>\n",
       "      <td>0</td>\n",
       "      <td>0</td>\n",
       "      <td>0</td>\n",
       "      <td>0</td>\n",
       "      <td>0</td>\n",
       "      <td>0</td>\n",
       "      <td>0</td>\n",
       "      <td>0</td>\n",
       "    </tr>\n",
       "    <tr>\n",
       "      <th>3</th>\n",
       "      <td>0</td>\n",
       "      <td>0</td>\n",
       "      <td>0</td>\n",
       "      <td>0</td>\n",
       "      <td>0</td>\n",
       "      <td>0</td>\n",
       "      <td>0</td>\n",
       "      <td>0</td>\n",
       "      <td>0</td>\n",
       "      <td>0</td>\n",
       "      <td>...</td>\n",
       "      <td>0</td>\n",
       "      <td>0</td>\n",
       "      <td>0</td>\n",
       "      <td>0</td>\n",
       "      <td>0</td>\n",
       "      <td>0</td>\n",
       "      <td>0</td>\n",
       "      <td>0</td>\n",
       "      <td>0</td>\n",
       "      <td>0</td>\n",
       "    </tr>\n",
       "    <tr>\n",
       "      <th>5</th>\n",
       "      <td>0</td>\n",
       "      <td>0</td>\n",
       "      <td>0</td>\n",
       "      <td>0</td>\n",
       "      <td>0</td>\n",
       "      <td>0</td>\n",
       "      <td>0</td>\n",
       "      <td>0</td>\n",
       "      <td>0</td>\n",
       "      <td>0</td>\n",
       "      <td>...</td>\n",
       "      <td>0</td>\n",
       "      <td>0</td>\n",
       "      <td>0</td>\n",
       "      <td>0</td>\n",
       "      <td>0</td>\n",
       "      <td>0</td>\n",
       "      <td>0</td>\n",
       "      <td>0</td>\n",
       "      <td>0</td>\n",
       "      <td>0</td>\n",
       "    </tr>\n",
       "  </tbody>\n",
       "</table>\n",
       "<p>5 rows × 30 columns</p>\n",
       "</div>"
      ],
      "text/plain": [
       "   世田谷  中野  八王子  北  千葉中央  品川  大田  市原  市川  文京  ...  江戸川  渋谷  港  町田  目黒  練馬  船橋  \\\n",
       "0    0   0    0  0     0   0   0   0   0   0  ...    0   0  0   0   0   0   0   \n",
       "1    0   0    0  0     0   0   0   0   0   0  ...    0   0  0   0   0   0   0   \n",
       "2    0   0    0  0     0   0   0   0   0   0  ...    0   0  0   0   0   0   0   \n",
       "3    0   0    0  0     0   0   0   0   0   0  ...    0   0  0   0   0   0   0   \n",
       "5    0   0    0  0     0   0   0   0   0   0  ...    0   0  0   0   0   0   0   \n",
       "\n",
       "   葛飾  調布  足立  \n",
       "0   0   0   0  \n",
       "1   0   0   0  \n",
       "2   0   0   0  \n",
       "3   0   0   0  \n",
       "5   0   0   0  \n",
       "\n",
       "[5 rows x 30 columns]"
      ]
     },
     "execution_count": 1929,
     "metadata": {},
     "output_type": "execute_result"
    }
   ],
   "source": [
    "dummies_loc = pd.get_dummies(df4[\"標準地番号\"], drop_first=True)\n",
    "dummies_loc.head()"
   ]
  },
  {
   "cell_type": "code",
   "execution_count": 1930,
   "id": "130a5c61-672e-4182-8558-d8201b715d2b",
   "metadata": {},
   "outputs": [
    {
     "data": {
      "text/html": [
       "<div>\n",
       "<style scoped>\n",
       "    .dataframe tbody tr th:only-of-type {\n",
       "        vertical-align: middle;\n",
       "    }\n",
       "\n",
       "    .dataframe tbody tr th {\n",
       "        vertical-align: top;\n",
       "    }\n",
       "\n",
       "    .dataframe thead th {\n",
       "        text-align: right;\n",
       "    }\n",
       "</style>\n",
       "<table border=\"1\" class=\"dataframe\">\n",
       "  <thead>\n",
       "    <tr style=\"text-align: right;\">\n",
       "      <th></th>\n",
       "      <th>RC</th>\n",
       "      <th>S</th>\n",
       "      <th>W</th>\n",
       "    </tr>\n",
       "  </thead>\n",
       "  <tbody>\n",
       "    <tr>\n",
       "      <th>0</th>\n",
       "      <td>0</td>\n",
       "      <td>0</td>\n",
       "      <td>1</td>\n",
       "    </tr>\n",
       "    <tr>\n",
       "      <th>1</th>\n",
       "      <td>0</td>\n",
       "      <td>0</td>\n",
       "      <td>1</td>\n",
       "    </tr>\n",
       "    <tr>\n",
       "      <th>2</th>\n",
       "      <td>0</td>\n",
       "      <td>0</td>\n",
       "      <td>1</td>\n",
       "    </tr>\n",
       "    <tr>\n",
       "      <th>3</th>\n",
       "      <td>0</td>\n",
       "      <td>0</td>\n",
       "      <td>1</td>\n",
       "    </tr>\n",
       "    <tr>\n",
       "      <th>5</th>\n",
       "      <td>0</td>\n",
       "      <td>0</td>\n",
       "      <td>1</td>\n",
       "    </tr>\n",
       "  </tbody>\n",
       "</table>\n",
       "</div>"
      ],
      "text/plain": [
       "   RC  S  W\n",
       "0   0  0  1\n",
       "1   0  0  1\n",
       "2   0  0  1\n",
       "3   0  0  1\n",
       "5   0  0  1"
      ]
     },
     "execution_count": 1930,
     "metadata": {},
     "output_type": "execute_result"
    }
   ],
   "source": [
    "dummies_kouzou = pd.get_dummies(df4[\"構造_1\"])\n",
    "dummies_kouzou.head()"
   ]
  },
  {
   "cell_type": "code",
   "execution_count": 1931,
   "id": "9bb16ded-09b1-4e6f-9400-9ca39cd17aee",
   "metadata": {},
   "outputs": [],
   "source": [
    "from sklearn.preprocessing import LabelEncoder\n",
    "le = LabelEncoder()"
   ]
  },
  {
   "cell_type": "code",
   "execution_count": 1932,
   "id": "bf0477cd-5d0b-42a7-9698-0bb9a54627c7",
   "metadata": {},
   "outputs": [
    {
     "data": {
      "text/html": [
       "<div>\n",
       "<style scoped>\n",
       "    .dataframe tbody tr th:only-of-type {\n",
       "        vertical-align: middle;\n",
       "    }\n",
       "\n",
       "    .dataframe tbody tr th {\n",
       "        vertical-align: top;\n",
       "    }\n",
       "\n",
       "    .dataframe thead th {\n",
       "        text-align: right;\n",
       "    }\n",
       "</style>\n",
       "<table border=\"1\" class=\"dataframe\">\n",
       "  <thead>\n",
       "    <tr style=\"text-align: right;\">\n",
       "      <th></th>\n",
       "      <th>標準地番号</th>\n",
       "      <th>標準地の地積</th>\n",
       "      <th>合計価格</th>\n",
       "      <th>間口</th>\n",
       "      <th>奥行</th>\n",
       "      <th>標準地の利用</th>\n",
       "      <th>構造_1</th>\n",
       "      <th>１平方メートル当たりの価格</th>\n",
       "    </tr>\n",
       "  </thead>\n",
       "  <tbody>\n",
       "    <tr>\n",
       "      <th>0</th>\n",
       "      <td>その他</td>\n",
       "      <td>325</td>\n",
       "      <td>193700000</td>\n",
       "      <td>1.5</td>\n",
       "      <td>1.0</td>\n",
       "      <td>0</td>\n",
       "      <td>W</td>\n",
       "      <td>596000.0</td>\n",
       "    </tr>\n",
       "    <tr>\n",
       "      <th>1</th>\n",
       "      <td>その他</td>\n",
       "      <td>196</td>\n",
       "      <td>136416000</td>\n",
       "      <td>1.0</td>\n",
       "      <td>1.0</td>\n",
       "      <td>0</td>\n",
       "      <td>W</td>\n",
       "      <td>696000.0</td>\n",
       "    </tr>\n",
       "    <tr>\n",
       "      <th>2</th>\n",
       "      <td>その他</td>\n",
       "      <td>121</td>\n",
       "      <td>79981000</td>\n",
       "      <td>1.0</td>\n",
       "      <td>1.2</td>\n",
       "      <td>0</td>\n",
       "      <td>W</td>\n",
       "      <td>661000.0</td>\n",
       "    </tr>\n",
       "    <tr>\n",
       "      <th>3</th>\n",
       "      <td>その他</td>\n",
       "      <td>119</td>\n",
       "      <td>82705000</td>\n",
       "      <td>1.0</td>\n",
       "      <td>1.2</td>\n",
       "      <td>0</td>\n",
       "      <td>W</td>\n",
       "      <td>695000.0</td>\n",
       "    </tr>\n",
       "    <tr>\n",
       "      <th>5</th>\n",
       "      <td>その他</td>\n",
       "      <td>163</td>\n",
       "      <td>24287000</td>\n",
       "      <td>1.0</td>\n",
       "      <td>1.5</td>\n",
       "      <td>0</td>\n",
       "      <td>W</td>\n",
       "      <td>149000.0</td>\n",
       "    </tr>\n",
       "    <tr>\n",
       "      <th>...</th>\n",
       "      <td>...</td>\n",
       "      <td>...</td>\n",
       "      <td>...</td>\n",
       "      <td>...</td>\n",
       "      <td>...</td>\n",
       "      <td>...</td>\n",
       "      <td>...</td>\n",
       "      <td>...</td>\n",
       "    </tr>\n",
       "    <tr>\n",
       "      <th>1901</th>\n",
       "      <td>足立</td>\n",
       "      <td>170</td>\n",
       "      <td>56950000</td>\n",
       "      <td>1.0</td>\n",
       "      <td>2.0</td>\n",
       "      <td>0</td>\n",
       "      <td>RC</td>\n",
       "      <td>335000.0</td>\n",
       "    </tr>\n",
       "    <tr>\n",
       "      <th>1902</th>\n",
       "      <td>足立</td>\n",
       "      <td>99</td>\n",
       "      <td>32868000</td>\n",
       "      <td>1.0</td>\n",
       "      <td>2.0</td>\n",
       "      <td>0</td>\n",
       "      <td>S</td>\n",
       "      <td>332000.0</td>\n",
       "    </tr>\n",
       "    <tr>\n",
       "      <th>1905</th>\n",
       "      <td>足立</td>\n",
       "      <td>134</td>\n",
       "      <td>31088000</td>\n",
       "      <td>1.0</td>\n",
       "      <td>2.5</td>\n",
       "      <td>0</td>\n",
       "      <td>W</td>\n",
       "      <td>232000.0</td>\n",
       "    </tr>\n",
       "    <tr>\n",
       "      <th>1906</th>\n",
       "      <td>足立</td>\n",
       "      <td>94</td>\n",
       "      <td>24440000</td>\n",
       "      <td>1.0</td>\n",
       "      <td>2.5</td>\n",
       "      <td>0</td>\n",
       "      <td>W</td>\n",
       "      <td>260000.0</td>\n",
       "    </tr>\n",
       "    <tr>\n",
       "      <th>1907</th>\n",
       "      <td>足立</td>\n",
       "      <td>334</td>\n",
       "      <td>83500000</td>\n",
       "      <td>2.0</td>\n",
       "      <td>1.0</td>\n",
       "      <td>1</td>\n",
       "      <td>S</td>\n",
       "      <td>250000.0</td>\n",
       "    </tr>\n",
       "  </tbody>\n",
       "</table>\n",
       "<p>1594 rows × 8 columns</p>\n",
       "</div>"
      ],
      "text/plain": [
       "     標準地番号  標準地の地積       合計価格   間口   奥行  標準地の利用 構造_1  １平方メートル当たりの価格\n",
       "0      その他     325  193700000  1.5  1.0       0    W       596000.0\n",
       "1      その他     196  136416000  1.0  1.0       0    W       696000.0\n",
       "2      その他     121   79981000  1.0  1.2       0    W       661000.0\n",
       "3      その他     119   82705000  1.0  1.2       0    W       695000.0\n",
       "5      その他     163   24287000  1.0  1.5       0    W       149000.0\n",
       "...    ...     ...        ...  ...  ...     ...  ...            ...\n",
       "1901    足立     170   56950000  1.0  2.0       0   RC       335000.0\n",
       "1902    足立      99   32868000  1.0  2.0       0    S       332000.0\n",
       "1905    足立     134   31088000  1.0  2.5       0    W       232000.0\n",
       "1906    足立      94   24440000  1.0  2.5       0    W       260000.0\n",
       "1907    足立     334   83500000  2.0  1.0       1    S       250000.0\n",
       "\n",
       "[1594 rows x 8 columns]"
      ]
     },
     "execution_count": 1932,
     "metadata": {},
     "output_type": "execute_result"
    }
   ],
   "source": [
    "using = df4.copy()  # make a copy of the original DataFrame\n",
    "using.loc[:, \"標準地の利用\"] = le.fit_transform(using[\"標準地の利用\"]) \n",
    "using"
   ]
  },
  {
   "cell_type": "markdown",
   "id": "78e2b700-e833-4a77-89e8-cfd987929cc8",
   "metadata": {},
   "source": [
    "# Concat columns below"
   ]
  },
  {
   "cell_type": "code",
   "execution_count": 1933,
   "id": "e2fd2e73-ffb7-4b8e-9618-fe4397191361",
   "metadata": {},
   "outputs": [
    {
     "data": {
      "text/html": [
       "<div>\n",
       "<style scoped>\n",
       "    .dataframe tbody tr th:only-of-type {\n",
       "        vertical-align: middle;\n",
       "    }\n",
       "\n",
       "    .dataframe tbody tr th {\n",
       "        vertical-align: top;\n",
       "    }\n",
       "\n",
       "    .dataframe thead th {\n",
       "        text-align: right;\n",
       "    }\n",
       "</style>\n",
       "<table border=\"1\" class=\"dataframe\">\n",
       "  <thead>\n",
       "    <tr style=\"text-align: right;\">\n",
       "      <th></th>\n",
       "      <th>標準地番号</th>\n",
       "      <th>標準地の地積</th>\n",
       "      <th>合計価格</th>\n",
       "      <th>間口</th>\n",
       "      <th>奥行</th>\n",
       "      <th>標準地の利用</th>\n",
       "      <th>構造_1</th>\n",
       "      <th>１平方メートル当たりの価格</th>\n",
       "      <th>世田谷</th>\n",
       "      <th>中野</th>\n",
       "      <th>...</th>\n",
       "      <th>町田</th>\n",
       "      <th>目黒</th>\n",
       "      <th>練馬</th>\n",
       "      <th>船橋</th>\n",
       "      <th>葛飾</th>\n",
       "      <th>調布</th>\n",
       "      <th>足立</th>\n",
       "      <th>RC</th>\n",
       "      <th>S</th>\n",
       "      <th>W</th>\n",
       "    </tr>\n",
       "  </thead>\n",
       "  <tbody>\n",
       "    <tr>\n",
       "      <th>0</th>\n",
       "      <td>その他</td>\n",
       "      <td>325</td>\n",
       "      <td>193700000</td>\n",
       "      <td>1.5</td>\n",
       "      <td>1.0</td>\n",
       "      <td>0</td>\n",
       "      <td>W</td>\n",
       "      <td>596000.0</td>\n",
       "      <td>0</td>\n",
       "      <td>0</td>\n",
       "      <td>...</td>\n",
       "      <td>0</td>\n",
       "      <td>0</td>\n",
       "      <td>0</td>\n",
       "      <td>0</td>\n",
       "      <td>0</td>\n",
       "      <td>0</td>\n",
       "      <td>0</td>\n",
       "      <td>0</td>\n",
       "      <td>0</td>\n",
       "      <td>1</td>\n",
       "    </tr>\n",
       "    <tr>\n",
       "      <th>1</th>\n",
       "      <td>その他</td>\n",
       "      <td>196</td>\n",
       "      <td>136416000</td>\n",
       "      <td>1.0</td>\n",
       "      <td>1.0</td>\n",
       "      <td>0</td>\n",
       "      <td>W</td>\n",
       "      <td>696000.0</td>\n",
       "      <td>0</td>\n",
       "      <td>0</td>\n",
       "      <td>...</td>\n",
       "      <td>0</td>\n",
       "      <td>0</td>\n",
       "      <td>0</td>\n",
       "      <td>0</td>\n",
       "      <td>0</td>\n",
       "      <td>0</td>\n",
       "      <td>0</td>\n",
       "      <td>0</td>\n",
       "      <td>0</td>\n",
       "      <td>1</td>\n",
       "    </tr>\n",
       "    <tr>\n",
       "      <th>2</th>\n",
       "      <td>その他</td>\n",
       "      <td>121</td>\n",
       "      <td>79981000</td>\n",
       "      <td>1.0</td>\n",
       "      <td>1.2</td>\n",
       "      <td>0</td>\n",
       "      <td>W</td>\n",
       "      <td>661000.0</td>\n",
       "      <td>0</td>\n",
       "      <td>0</td>\n",
       "      <td>...</td>\n",
       "      <td>0</td>\n",
       "      <td>0</td>\n",
       "      <td>0</td>\n",
       "      <td>0</td>\n",
       "      <td>0</td>\n",
       "      <td>0</td>\n",
       "      <td>0</td>\n",
       "      <td>0</td>\n",
       "      <td>0</td>\n",
       "      <td>1</td>\n",
       "    </tr>\n",
       "    <tr>\n",
       "      <th>3</th>\n",
       "      <td>その他</td>\n",
       "      <td>119</td>\n",
       "      <td>82705000</td>\n",
       "      <td>1.0</td>\n",
       "      <td>1.2</td>\n",
       "      <td>0</td>\n",
       "      <td>W</td>\n",
       "      <td>695000.0</td>\n",
       "      <td>0</td>\n",
       "      <td>0</td>\n",
       "      <td>...</td>\n",
       "      <td>0</td>\n",
       "      <td>0</td>\n",
       "      <td>0</td>\n",
       "      <td>0</td>\n",
       "      <td>0</td>\n",
       "      <td>0</td>\n",
       "      <td>0</td>\n",
       "      <td>0</td>\n",
       "      <td>0</td>\n",
       "      <td>1</td>\n",
       "    </tr>\n",
       "    <tr>\n",
       "      <th>5</th>\n",
       "      <td>その他</td>\n",
       "      <td>163</td>\n",
       "      <td>24287000</td>\n",
       "      <td>1.0</td>\n",
       "      <td>1.5</td>\n",
       "      <td>0</td>\n",
       "      <td>W</td>\n",
       "      <td>149000.0</td>\n",
       "      <td>0</td>\n",
       "      <td>0</td>\n",
       "      <td>...</td>\n",
       "      <td>0</td>\n",
       "      <td>0</td>\n",
       "      <td>0</td>\n",
       "      <td>0</td>\n",
       "      <td>0</td>\n",
       "      <td>0</td>\n",
       "      <td>0</td>\n",
       "      <td>0</td>\n",
       "      <td>0</td>\n",
       "      <td>1</td>\n",
       "    </tr>\n",
       "    <tr>\n",
       "      <th>...</th>\n",
       "      <td>...</td>\n",
       "      <td>...</td>\n",
       "      <td>...</td>\n",
       "      <td>...</td>\n",
       "      <td>...</td>\n",
       "      <td>...</td>\n",
       "      <td>...</td>\n",
       "      <td>...</td>\n",
       "      <td>...</td>\n",
       "      <td>...</td>\n",
       "      <td>...</td>\n",
       "      <td>...</td>\n",
       "      <td>...</td>\n",
       "      <td>...</td>\n",
       "      <td>...</td>\n",
       "      <td>...</td>\n",
       "      <td>...</td>\n",
       "      <td>...</td>\n",
       "      <td>...</td>\n",
       "      <td>...</td>\n",
       "      <td>...</td>\n",
       "    </tr>\n",
       "    <tr>\n",
       "      <th>1901</th>\n",
       "      <td>足立</td>\n",
       "      <td>170</td>\n",
       "      <td>56950000</td>\n",
       "      <td>1.0</td>\n",
       "      <td>2.0</td>\n",
       "      <td>0</td>\n",
       "      <td>RC</td>\n",
       "      <td>335000.0</td>\n",
       "      <td>0</td>\n",
       "      <td>0</td>\n",
       "      <td>...</td>\n",
       "      <td>0</td>\n",
       "      <td>0</td>\n",
       "      <td>0</td>\n",
       "      <td>0</td>\n",
       "      <td>0</td>\n",
       "      <td>0</td>\n",
       "      <td>1</td>\n",
       "      <td>1</td>\n",
       "      <td>0</td>\n",
       "      <td>0</td>\n",
       "    </tr>\n",
       "    <tr>\n",
       "      <th>1902</th>\n",
       "      <td>足立</td>\n",
       "      <td>99</td>\n",
       "      <td>32868000</td>\n",
       "      <td>1.0</td>\n",
       "      <td>2.0</td>\n",
       "      <td>0</td>\n",
       "      <td>S</td>\n",
       "      <td>332000.0</td>\n",
       "      <td>0</td>\n",
       "      <td>0</td>\n",
       "      <td>...</td>\n",
       "      <td>0</td>\n",
       "      <td>0</td>\n",
       "      <td>0</td>\n",
       "      <td>0</td>\n",
       "      <td>0</td>\n",
       "      <td>0</td>\n",
       "      <td>1</td>\n",
       "      <td>0</td>\n",
       "      <td>1</td>\n",
       "      <td>0</td>\n",
       "    </tr>\n",
       "    <tr>\n",
       "      <th>1905</th>\n",
       "      <td>足立</td>\n",
       "      <td>134</td>\n",
       "      <td>31088000</td>\n",
       "      <td>1.0</td>\n",
       "      <td>2.5</td>\n",
       "      <td>0</td>\n",
       "      <td>W</td>\n",
       "      <td>232000.0</td>\n",
       "      <td>0</td>\n",
       "      <td>0</td>\n",
       "      <td>...</td>\n",
       "      <td>0</td>\n",
       "      <td>0</td>\n",
       "      <td>0</td>\n",
       "      <td>0</td>\n",
       "      <td>0</td>\n",
       "      <td>0</td>\n",
       "      <td>1</td>\n",
       "      <td>0</td>\n",
       "      <td>0</td>\n",
       "      <td>1</td>\n",
       "    </tr>\n",
       "    <tr>\n",
       "      <th>1906</th>\n",
       "      <td>足立</td>\n",
       "      <td>94</td>\n",
       "      <td>24440000</td>\n",
       "      <td>1.0</td>\n",
       "      <td>2.5</td>\n",
       "      <td>0</td>\n",
       "      <td>W</td>\n",
       "      <td>260000.0</td>\n",
       "      <td>0</td>\n",
       "      <td>0</td>\n",
       "      <td>...</td>\n",
       "      <td>0</td>\n",
       "      <td>0</td>\n",
       "      <td>0</td>\n",
       "      <td>0</td>\n",
       "      <td>0</td>\n",
       "      <td>0</td>\n",
       "      <td>1</td>\n",
       "      <td>0</td>\n",
       "      <td>0</td>\n",
       "      <td>1</td>\n",
       "    </tr>\n",
       "    <tr>\n",
       "      <th>1907</th>\n",
       "      <td>足立</td>\n",
       "      <td>334</td>\n",
       "      <td>83500000</td>\n",
       "      <td>2.0</td>\n",
       "      <td>1.0</td>\n",
       "      <td>1</td>\n",
       "      <td>S</td>\n",
       "      <td>250000.0</td>\n",
       "      <td>0</td>\n",
       "      <td>0</td>\n",
       "      <td>...</td>\n",
       "      <td>0</td>\n",
       "      <td>0</td>\n",
       "      <td>0</td>\n",
       "      <td>0</td>\n",
       "      <td>0</td>\n",
       "      <td>0</td>\n",
       "      <td>1</td>\n",
       "      <td>0</td>\n",
       "      <td>1</td>\n",
       "      <td>0</td>\n",
       "    </tr>\n",
       "  </tbody>\n",
       "</table>\n",
       "<p>1594 rows × 41 columns</p>\n",
       "</div>"
      ],
      "text/plain": [
       "     標準地番号  標準地の地積       合計価格   間口   奥行  標準地の利用 構造_1  １平方メートル当たりの価格  世田谷  中野  \\\n",
       "0      その他     325  193700000  1.5  1.0       0    W       596000.0    0   0   \n",
       "1      その他     196  136416000  1.0  1.0       0    W       696000.0    0   0   \n",
       "2      その他     121   79981000  1.0  1.2       0    W       661000.0    0   0   \n",
       "3      その他     119   82705000  1.0  1.2       0    W       695000.0    0   0   \n",
       "5      その他     163   24287000  1.0  1.5       0    W       149000.0    0   0   \n",
       "...    ...     ...        ...  ...  ...     ...  ...            ...  ...  ..   \n",
       "1901    足立     170   56950000  1.0  2.0       0   RC       335000.0    0   0   \n",
       "1902    足立      99   32868000  1.0  2.0       0    S       332000.0    0   0   \n",
       "1905    足立     134   31088000  1.0  2.5       0    W       232000.0    0   0   \n",
       "1906    足立      94   24440000  1.0  2.5       0    W       260000.0    0   0   \n",
       "1907    足立     334   83500000  2.0  1.0       1    S       250000.0    0   0   \n",
       "\n",
       "      ...  町田  目黒  練馬  船橋  葛飾  調布  足立  RC  S  W  \n",
       "0     ...   0   0   0   0   0   0   0   0  0  1  \n",
       "1     ...   0   0   0   0   0   0   0   0  0  1  \n",
       "2     ...   0   0   0   0   0   0   0   0  0  1  \n",
       "3     ...   0   0   0   0   0   0   0   0  0  1  \n",
       "5     ...   0   0   0   0   0   0   0   0  0  1  \n",
       "...   ...  ..  ..  ..  ..  ..  ..  ..  .. .. ..  \n",
       "1901  ...   0   0   0   0   0   0   1   1  0  0  \n",
       "1902  ...   0   0   0   0   0   0   1   0  1  0  \n",
       "1905  ...   0   0   0   0   0   0   1   0  0  1  \n",
       "1906  ...   0   0   0   0   0   0   1   0  0  1  \n",
       "1907  ...   0   0   0   0   0   0   1   0  1  0  \n",
       "\n",
       "[1594 rows x 41 columns]"
      ]
     },
     "execution_count": 1933,
     "metadata": {},
     "output_type": "execute_result"
    }
   ],
   "source": [
    "df5 = pd.concat([using, dummies_loc, dummies_kouzou],axis='columns')\n",
    "df5"
   ]
  },
  {
   "cell_type": "code",
   "execution_count": 1934,
   "id": "32529002-279d-4559-957f-1c57584539a0",
   "metadata": {},
   "outputs": [
    {
     "data": {
      "text/plain": [
       "Index(['標準地の地積', '合計価格', '標準地の利用', '世田谷', '中野', '八王子', '北', '千葉中央', '品川', '大田',\n",
       "       '市原', '市川', '文京', '新宿', '日野', '杉並', '東京府中', '松戸', '板橋', '柏', '横浜戸塚',\n",
       "       '横浜港北', '横浜港南', '江戸川', '渋谷', '港', '町田', '目黒', '練馬', '船橋', '葛飾', '調布',\n",
       "       '足立', 'RC', 'S', 'W'],\n",
       "      dtype='object')"
      ]
     },
     "execution_count": 1934,
     "metadata": {},
     "output_type": "execute_result"
    }
   ],
   "source": [
    "df6 = df5.drop(['標準地番号', '間口', '奥行', '構造_1', '１平方メートル当たりの価格'], axis='columns')\n",
    "df6.columns"
   ]
  },
  {
   "cell_type": "code",
   "execution_count": 1935,
   "id": "0581f062-4af9-4a18-9448-b1100c1f507a",
   "metadata": {},
   "outputs": [
    {
     "data": {
      "text/html": [
       "<div>\n",
       "<style scoped>\n",
       "    .dataframe tbody tr th:only-of-type {\n",
       "        vertical-align: middle;\n",
       "    }\n",
       "\n",
       "    .dataframe tbody tr th {\n",
       "        vertical-align: top;\n",
       "    }\n",
       "\n",
       "    .dataframe thead th {\n",
       "        text-align: right;\n",
       "    }\n",
       "</style>\n",
       "<table border=\"1\" class=\"dataframe\">\n",
       "  <thead>\n",
       "    <tr style=\"text-align: right;\">\n",
       "      <th></th>\n",
       "      <th>標準地の地積</th>\n",
       "      <th>標準地の利用</th>\n",
       "      <th>世田谷</th>\n",
       "      <th>中野</th>\n",
       "      <th>八王子</th>\n",
       "      <th>北</th>\n",
       "      <th>千葉中央</th>\n",
       "      <th>品川</th>\n",
       "      <th>大田</th>\n",
       "      <th>市原</th>\n",
       "      <th>...</th>\n",
       "      <th>町田</th>\n",
       "      <th>目黒</th>\n",
       "      <th>練馬</th>\n",
       "      <th>船橋</th>\n",
       "      <th>葛飾</th>\n",
       "      <th>調布</th>\n",
       "      <th>足立</th>\n",
       "      <th>RC</th>\n",
       "      <th>S</th>\n",
       "      <th>W</th>\n",
       "    </tr>\n",
       "  </thead>\n",
       "  <tbody>\n",
       "    <tr>\n",
       "      <th>0</th>\n",
       "      <td>325</td>\n",
       "      <td>0</td>\n",
       "      <td>0</td>\n",
       "      <td>0</td>\n",
       "      <td>0</td>\n",
       "      <td>0</td>\n",
       "      <td>0</td>\n",
       "      <td>0</td>\n",
       "      <td>0</td>\n",
       "      <td>0</td>\n",
       "      <td>...</td>\n",
       "      <td>0</td>\n",
       "      <td>0</td>\n",
       "      <td>0</td>\n",
       "      <td>0</td>\n",
       "      <td>0</td>\n",
       "      <td>0</td>\n",
       "      <td>0</td>\n",
       "      <td>0</td>\n",
       "      <td>0</td>\n",
       "      <td>1</td>\n",
       "    </tr>\n",
       "    <tr>\n",
       "      <th>1</th>\n",
       "      <td>196</td>\n",
       "      <td>0</td>\n",
       "      <td>0</td>\n",
       "      <td>0</td>\n",
       "      <td>0</td>\n",
       "      <td>0</td>\n",
       "      <td>0</td>\n",
       "      <td>0</td>\n",
       "      <td>0</td>\n",
       "      <td>0</td>\n",
       "      <td>...</td>\n",
       "      <td>0</td>\n",
       "      <td>0</td>\n",
       "      <td>0</td>\n",
       "      <td>0</td>\n",
       "      <td>0</td>\n",
       "      <td>0</td>\n",
       "      <td>0</td>\n",
       "      <td>0</td>\n",
       "      <td>0</td>\n",
       "      <td>1</td>\n",
       "    </tr>\n",
       "    <tr>\n",
       "      <th>2</th>\n",
       "      <td>121</td>\n",
       "      <td>0</td>\n",
       "      <td>0</td>\n",
       "      <td>0</td>\n",
       "      <td>0</td>\n",
       "      <td>0</td>\n",
       "      <td>0</td>\n",
       "      <td>0</td>\n",
       "      <td>0</td>\n",
       "      <td>0</td>\n",
       "      <td>...</td>\n",
       "      <td>0</td>\n",
       "      <td>0</td>\n",
       "      <td>0</td>\n",
       "      <td>0</td>\n",
       "      <td>0</td>\n",
       "      <td>0</td>\n",
       "      <td>0</td>\n",
       "      <td>0</td>\n",
       "      <td>0</td>\n",
       "      <td>1</td>\n",
       "    </tr>\n",
       "    <tr>\n",
       "      <th>3</th>\n",
       "      <td>119</td>\n",
       "      <td>0</td>\n",
       "      <td>0</td>\n",
       "      <td>0</td>\n",
       "      <td>0</td>\n",
       "      <td>0</td>\n",
       "      <td>0</td>\n",
       "      <td>0</td>\n",
       "      <td>0</td>\n",
       "      <td>0</td>\n",
       "      <td>...</td>\n",
       "      <td>0</td>\n",
       "      <td>0</td>\n",
       "      <td>0</td>\n",
       "      <td>0</td>\n",
       "      <td>0</td>\n",
       "      <td>0</td>\n",
       "      <td>0</td>\n",
       "      <td>0</td>\n",
       "      <td>0</td>\n",
       "      <td>1</td>\n",
       "    </tr>\n",
       "    <tr>\n",
       "      <th>5</th>\n",
       "      <td>163</td>\n",
       "      <td>0</td>\n",
       "      <td>0</td>\n",
       "      <td>0</td>\n",
       "      <td>0</td>\n",
       "      <td>0</td>\n",
       "      <td>0</td>\n",
       "      <td>0</td>\n",
       "      <td>0</td>\n",
       "      <td>0</td>\n",
       "      <td>...</td>\n",
       "      <td>0</td>\n",
       "      <td>0</td>\n",
       "      <td>0</td>\n",
       "      <td>0</td>\n",
       "      <td>0</td>\n",
       "      <td>0</td>\n",
       "      <td>0</td>\n",
       "      <td>0</td>\n",
       "      <td>0</td>\n",
       "      <td>1</td>\n",
       "    </tr>\n",
       "  </tbody>\n",
       "</table>\n",
       "<p>5 rows × 35 columns</p>\n",
       "</div>"
      ],
      "text/plain": [
       "   標準地の地積  標準地の利用  世田谷  中野  八王子  北  千葉中央  品川  大田  市原  ...  町田  目黒  練馬  船橋  葛飾  \\\n",
       "0     325       0    0   0    0  0     0   0   0   0  ...   0   0   0   0   0   \n",
       "1     196       0    0   0    0  0     0   0   0   0  ...   0   0   0   0   0   \n",
       "2     121       0    0   0    0  0     0   0   0   0  ...   0   0   0   0   0   \n",
       "3     119       0    0   0    0  0     0   0   0   0  ...   0   0   0   0   0   \n",
       "5     163       0    0   0    0  0     0   0   0   0  ...   0   0   0   0   0   \n",
       "\n",
       "   調布  足立  RC  S  W  \n",
       "0   0   0   0  0  1  \n",
       "1   0   0   0  0  1  \n",
       "2   0   0   0  0  1  \n",
       "3   0   0   0  0  1  \n",
       "5   0   0   0  0  1  \n",
       "\n",
       "[5 rows x 35 columns]"
      ]
     },
     "execution_count": 1935,
     "metadata": {},
     "output_type": "execute_result"
    }
   ],
   "source": [
    "X = df6.drop('合計価格', axis='columns')\n",
    "X.head()"
   ]
  },
  {
   "cell_type": "code",
   "execution_count": 1936,
   "id": "204acd4f-7b17-4144-b068-ec07c57909d5",
   "metadata": {},
   "outputs": [
    {
     "data": {
      "text/html": [
       "<div>\n",
       "<style scoped>\n",
       "    .dataframe tbody tr th:only-of-type {\n",
       "        vertical-align: middle;\n",
       "    }\n",
       "\n",
       "    .dataframe tbody tr th {\n",
       "        vertical-align: top;\n",
       "    }\n",
       "\n",
       "    .dataframe thead th {\n",
       "        text-align: right;\n",
       "    }\n",
       "</style>\n",
       "<table border=\"1\" class=\"dataframe\">\n",
       "  <thead>\n",
       "    <tr style=\"text-align: right;\">\n",
       "      <th></th>\n",
       "      <th>Sqft</th>\n",
       "      <th>Structure</th>\n",
       "      <th>Setagaya</th>\n",
       "      <th>Nakano</th>\n",
       "      <th>Hachioji</th>\n",
       "      <th>Kita</th>\n",
       "      <th>Chiba Chuo</th>\n",
       "      <th>Shinagawa</th>\n",
       "      <th>Ota</th>\n",
       "      <th>Ichihara</th>\n",
       "      <th>...</th>\n",
       "      <th>Machida</th>\n",
       "      <th>Meguro</th>\n",
       "      <th>Nerima</th>\n",
       "      <th>Funabashi</th>\n",
       "      <th>Katsushika</th>\n",
       "      <th>Chofu</th>\n",
       "      <th>Adachi</th>\n",
       "      <th>RC</th>\n",
       "      <th>S</th>\n",
       "      <th>W</th>\n",
       "    </tr>\n",
       "  </thead>\n",
       "  <tbody>\n",
       "    <tr>\n",
       "      <th>0</th>\n",
       "      <td>325</td>\n",
       "      <td>0</td>\n",
       "      <td>0</td>\n",
       "      <td>0</td>\n",
       "      <td>0</td>\n",
       "      <td>0</td>\n",
       "      <td>0</td>\n",
       "      <td>0</td>\n",
       "      <td>0</td>\n",
       "      <td>0</td>\n",
       "      <td>...</td>\n",
       "      <td>0</td>\n",
       "      <td>0</td>\n",
       "      <td>0</td>\n",
       "      <td>0</td>\n",
       "      <td>0</td>\n",
       "      <td>0</td>\n",
       "      <td>0</td>\n",
       "      <td>0</td>\n",
       "      <td>0</td>\n",
       "      <td>1</td>\n",
       "    </tr>\n",
       "    <tr>\n",
       "      <th>1</th>\n",
       "      <td>196</td>\n",
       "      <td>0</td>\n",
       "      <td>0</td>\n",
       "      <td>0</td>\n",
       "      <td>0</td>\n",
       "      <td>0</td>\n",
       "      <td>0</td>\n",
       "      <td>0</td>\n",
       "      <td>0</td>\n",
       "      <td>0</td>\n",
       "      <td>...</td>\n",
       "      <td>0</td>\n",
       "      <td>0</td>\n",
       "      <td>0</td>\n",
       "      <td>0</td>\n",
       "      <td>0</td>\n",
       "      <td>0</td>\n",
       "      <td>0</td>\n",
       "      <td>0</td>\n",
       "      <td>0</td>\n",
       "      <td>1</td>\n",
       "    </tr>\n",
       "    <tr>\n",
       "      <th>2</th>\n",
       "      <td>121</td>\n",
       "      <td>0</td>\n",
       "      <td>0</td>\n",
       "      <td>0</td>\n",
       "      <td>0</td>\n",
       "      <td>0</td>\n",
       "      <td>0</td>\n",
       "      <td>0</td>\n",
       "      <td>0</td>\n",
       "      <td>0</td>\n",
       "      <td>...</td>\n",
       "      <td>0</td>\n",
       "      <td>0</td>\n",
       "      <td>0</td>\n",
       "      <td>0</td>\n",
       "      <td>0</td>\n",
       "      <td>0</td>\n",
       "      <td>0</td>\n",
       "      <td>0</td>\n",
       "      <td>0</td>\n",
       "      <td>1</td>\n",
       "    </tr>\n",
       "    <tr>\n",
       "      <th>3</th>\n",
       "      <td>119</td>\n",
       "      <td>0</td>\n",
       "      <td>0</td>\n",
       "      <td>0</td>\n",
       "      <td>0</td>\n",
       "      <td>0</td>\n",
       "      <td>0</td>\n",
       "      <td>0</td>\n",
       "      <td>0</td>\n",
       "      <td>0</td>\n",
       "      <td>...</td>\n",
       "      <td>0</td>\n",
       "      <td>0</td>\n",
       "      <td>0</td>\n",
       "      <td>0</td>\n",
       "      <td>0</td>\n",
       "      <td>0</td>\n",
       "      <td>0</td>\n",
       "      <td>0</td>\n",
       "      <td>0</td>\n",
       "      <td>1</td>\n",
       "    </tr>\n",
       "    <tr>\n",
       "      <th>5</th>\n",
       "      <td>163</td>\n",
       "      <td>0</td>\n",
       "      <td>0</td>\n",
       "      <td>0</td>\n",
       "      <td>0</td>\n",
       "      <td>0</td>\n",
       "      <td>0</td>\n",
       "      <td>0</td>\n",
       "      <td>0</td>\n",
       "      <td>0</td>\n",
       "      <td>...</td>\n",
       "      <td>0</td>\n",
       "      <td>0</td>\n",
       "      <td>0</td>\n",
       "      <td>0</td>\n",
       "      <td>0</td>\n",
       "      <td>0</td>\n",
       "      <td>0</td>\n",
       "      <td>0</td>\n",
       "      <td>0</td>\n",
       "      <td>1</td>\n",
       "    </tr>\n",
       "  </tbody>\n",
       "</table>\n",
       "<p>5 rows × 35 columns</p>\n",
       "</div>"
      ],
      "text/plain": [
       "   Sqft  Structure  Setagaya  Nakano  Hachioji  Kita  Chiba Chuo  Shinagawa  \\\n",
       "0   325          0         0       0         0     0           0          0   \n",
       "1   196          0         0       0         0     0           0          0   \n",
       "2   121          0         0       0         0     0           0          0   \n",
       "3   119          0         0       0         0     0           0          0   \n",
       "5   163          0         0       0         0     0           0          0   \n",
       "\n",
       "   Ota  Ichihara  ...  Machida  Meguro  Nerima  Funabashi  Katsushika  Chofu  \\\n",
       "0    0         0  ...        0       0       0          0           0      0   \n",
       "1    0         0  ...        0       0       0          0           0      0   \n",
       "2    0         0  ...        0       0       0          0           0      0   \n",
       "3    0         0  ...        0       0       0          0           0      0   \n",
       "5    0         0  ...        0       0       0          0           0      0   \n",
       "\n",
       "   Adachi  RC  S  W  \n",
       "0       0   0  0  1  \n",
       "1       0   0  0  1  \n",
       "2       0   0  0  1  \n",
       "3       0   0  0  1  \n",
       "5       0   0  0  1  \n",
       "\n",
       "[5 rows x 35 columns]"
      ]
     },
     "execution_count": 1936,
     "metadata": {},
     "output_type": "execute_result"
    }
   ],
   "source": [
    "kanji_to_romaji = {\n",
    "    \"標準地の地積\": \"Sqft\",\n",
    "    \"標準地の利用\": \"Structure\",\n",
    "    \"世田谷\": \"Setagaya\",\n",
    "    \"中野\": \"Nakano\",\n",
    "    \"八王子\": \"Hachioji\",\n",
    "    \"北\": \"Kita\",\n",
    "    \"千葉中央\": \"Chiba Chuo\",\n",
    "    \"品川\": \"Shinagawa\",\n",
    "    \"大田\": \"Ota\",\n",
    "    \"市原\": \"Ichihara\",\n",
    "    \"市川\": \"Ichikawa\",\n",
    "    \"文京\": \"Bunkyo\",\n",
    "    \"新宿\": \"Shinjuku\",\n",
    "    \"日野\": \"Hino\",\n",
    "    \"杉並\": \"Suginami\",\n",
    "    \"東京府中\": \"Tokyo Fuchu\",\n",
    "    \"松戸\": \"Matsudo\",\n",
    "    \"板橋\": \"Itabashi\",\n",
    "    \"柏\": \"Kashiwa\",\n",
    "    \"横浜戸塚\": \"Yokohama Totsuka\",\n",
    "    \"横浜港北\": \"Yokohama Kohoku\",\n",
    "    \"横浜港南\": \"Yokohama Konan\",\n",
    "    \"江戸川\": \"Edogawa\",\n",
    "    \"渋谷\": \"Shibuya\",\n",
    "    \"港\": \"Minato\",\n",
    "    \"町田\": \"Machida\",\n",
    "    \"目黒\": \"Meguro\",\n",
    "    \"練馬\": \"Nerima\",\n",
    "    \"船橋\": \"Funabashi\",\n",
    "    \"葛飾\": \"Katsushika\",\n",
    "    \"調布\": \"Chofu\",\n",
    "    \"足立\": \"Adachi\"\n",
    "}\n",
    "\n",
    "# Rename the columns using the dictionary\n",
    "X = X.rename(columns=kanji_to_romaji)\n",
    "X.head()"
   ]
  },
  {
   "cell_type": "code",
   "execution_count": 1937,
   "id": "0155db1a-dbd0-4cdf-9d74-cf31cee34e57",
   "metadata": {},
   "outputs": [
    {
     "data": {
      "text/plain": [
       "0    193700000\n",
       "1    136416000\n",
       "2     79981000\n",
       "3     82705000\n",
       "5     24287000\n",
       "Name: 合計価格, dtype: int64"
      ]
     },
     "execution_count": 1937,
     "metadata": {},
     "output_type": "execute_result"
    }
   ],
   "source": [
    "y = df6['合計価格']\n",
    "y.head()"
   ]
  },
  {
   "cell_type": "markdown",
   "id": "057f9163-eba0-4349-87b9-0d6f71dbef82",
   "metadata": {
    "tags": []
   },
   "source": [
    "## Scaler"
   ]
  },
  {
   "cell_type": "code",
   "execution_count": 1938,
   "id": "10791e99-721e-46c1-8d9d-faae51a7a9db",
   "metadata": {},
   "outputs": [],
   "source": [
    "# from sklearn.preprocessing import StandardScaler\n",
    "\n",
    "# scaler = StandardScaler()\n",
    "# X_scaled = scaler.fit_transform(X)\n",
    "# X_scaled[:3]\n",
    "# y_scaled = scaler.fit_transform(y)"
   ]
  },
  {
   "cell_type": "code",
   "execution_count": 1939,
   "id": "4da81263-cb58-4511-989e-888f23883c8c",
   "metadata": {},
   "outputs": [],
   "source": [
    "from sklearn.model_selection import train_test_split\n",
    "X_train, X_test, y_train, y_test = train_test_split(X,y,test_size=0.2,random_state=10)"
   ]
  },
  {
   "cell_type": "code",
   "execution_count": 1940,
   "id": "70783d2f-fd27-448b-82e1-83102b62d1c8",
   "metadata": {},
   "outputs": [
    {
     "data": {
      "text/plain": [
       "0.6550963254611664"
      ]
     },
     "execution_count": 1940,
     "metadata": {},
     "output_type": "execute_result"
    }
   ],
   "source": [
    "from sklearn.linear_model import LinearRegression\n",
    "lr_clf = LinearRegression()\n",
    "lr_clf.fit(X_train,y_train)\n",
    "lr_clf.score(X_test,y_test)"
   ]
  },
  {
   "cell_type": "code",
   "execution_count": 1941,
   "id": "fbcf6191-767d-4b28-8362-be415a45c30d",
   "metadata": {},
   "outputs": [
    {
     "data": {
      "text/plain": [
       "0.8487117242137621"
      ]
     },
     "execution_count": 1941,
     "metadata": {},
     "output_type": "execute_result"
    }
   ],
   "source": [
    "from sklearn.tree import DecisionTreeRegressor\n",
    "dr = DecisionTreeRegressor()\n",
    "dr.fit(X_train, y_train)\n",
    "dr.score(X_test,y_test)"
   ]
  },
  {
   "cell_type": "markdown",
   "id": "aa061ce1-5a54-4260-af8a-12ffb29517f6",
   "metadata": {},
   "source": [
    "## Use K Fold cross validation to measure accuracy of our LinearRegression model"
   ]
  },
  {
   "cell_type": "code",
   "execution_count": 1942,
   "id": "e76f6e13-77f1-46c3-95a3-4a45ce70ac0c",
   "metadata": {},
   "outputs": [
    {
     "data": {
      "text/plain": [
       "array([0.38741443, 0.4053187 , 0.49381833, 0.68714564, 0.74629003])"
      ]
     },
     "execution_count": 1942,
     "metadata": {},
     "output_type": "execute_result"
    }
   ],
   "source": [
    "from sklearn.model_selection import ShuffleSplit\n",
    "from sklearn.model_selection import cross_val_score\n",
    "\n",
    "cv = ShuffleSplit(n_splits=5, test_size=0.2, random_state=0)\n",
    "\n",
    "cross_val_score(LinearRegression(), X, y, cv=cv)"
   ]
  },
  {
   "cell_type": "code",
   "execution_count": 1943,
   "id": "5aeb5941-0d34-42a8-b814-503ed8c129a1",
   "metadata": {},
   "outputs": [
    {
     "data": {
      "text/plain": [
       "array([0.34488125, 0.75075769, 0.48143965, 0.62797376, 0.74517418])"
      ]
     },
     "execution_count": 1943,
     "metadata": {},
     "output_type": "execute_result"
    }
   ],
   "source": [
    "cv = ShuffleSplit(n_splits=5, test_size=0.25, random_state=0)\n",
    "\n",
    "cross_val_score(DecisionTreeRegressor(), X, y, cv=cv)"
   ]
  },
  {
   "cell_type": "code",
   "execution_count": 1944,
   "id": "eee4f79d-eb6d-496d-84a4-33ac91d5b277",
   "metadata": {},
   "outputs": [
    {
     "name": "stderr",
     "output_type": "stream",
     "text": [
      "C:\\Users\\deymo\\anaconda3\\lib\\site-packages\\sklearn\\linear_model\\_coordinate_descent.py:647: ConvergenceWarning: Objective did not converge. You might want to increase the number of iterations, check the scale of the features or consider increasing regularisation. Duality gap: 2.089e+17, tolerance: 4.521e+15\n",
      "  model = cd_fast.enet_coordinate_descent(\n",
      "C:\\Users\\deymo\\anaconda3\\lib\\site-packages\\sklearn\\linear_model\\_coordinate_descent.py:647: ConvergenceWarning: Objective did not converge. You might want to increase the number of iterations, check the scale of the features or consider increasing regularisation. Duality gap: 1.402e+18, tolerance: 1.206e+16\n",
      "  model = cd_fast.enet_coordinate_descent(\n",
      "C:\\Users\\deymo\\anaconda3\\lib\\site-packages\\sklearn\\linear_model\\_coordinate_descent.py:647: ConvergenceWarning: Objective did not converge. You might want to increase the number of iterations, check the scale of the features or consider increasing regularisation. Duality gap: 1.456e+18, tolerance: 1.245e+16\n",
      "  model = cd_fast.enet_coordinate_descent(\n",
      "C:\\Users\\deymo\\anaconda3\\lib\\site-packages\\sklearn\\linear_model\\_coordinate_descent.py:647: ConvergenceWarning: Objective did not converge. You might want to increase the number of iterations, check the scale of the features or consider increasing regularisation. Duality gap: 1.465e+18, tolerance: 1.283e+16\n",
      "  model = cd_fast.enet_coordinate_descent(\n",
      "C:\\Users\\deymo\\anaconda3\\lib\\site-packages\\sklearn\\linear_model\\_coordinate_descent.py:647: ConvergenceWarning: Objective did not converge. You might want to increase the number of iterations, check the scale of the features or consider increasing regularisation. Duality gap: 1.648e+17, tolerance: 3.794e+15\n",
      "  model = cd_fast.enet_coordinate_descent(\n",
      "C:\\Users\\deymo\\anaconda3\\lib\\site-packages\\sklearn\\linear_model\\_coordinate_descent.py:647: ConvergenceWarning: Objective did not converge. You might want to increase the number of iterations, check the scale of the features or consider increasing regularisation. Duality gap: 1.762e+18, tolerance: 1.211e+16\n",
      "  model = cd_fast.enet_coordinate_descent(\n",
      "C:\\Users\\deymo\\anaconda3\\lib\\site-packages\\sklearn\\linear_model\\_coordinate_descent.py:647: ConvergenceWarning: Objective did not converge. You might want to increase the number of iterations, check the scale of the features or consider increasing regularisation. Duality gap: 1.266e+18, tolerance: 1.229e+16\n",
      "  model = cd_fast.enet_coordinate_descent(\n",
      "C:\\Users\\deymo\\anaconda3\\lib\\site-packages\\sklearn\\linear_model\\_coordinate_descent.py:647: ConvergenceWarning: Objective did not converge. You might want to increase the number of iterations, check the scale of the features or consider increasing regularisation. Duality gap: 2.509e+17, tolerance: 3.977e+15\n",
      "  model = cd_fast.enet_coordinate_descent(\n",
      "C:\\Users\\deymo\\anaconda3\\lib\\site-packages\\sklearn\\linear_model\\_coordinate_descent.py:647: ConvergenceWarning: Objective did not converge. You might want to increase the number of iterations, check the scale of the features or consider increasing regularisation. Duality gap: 1.593e+18, tolerance: 1.401e+16\n",
      "  model = cd_fast.enet_coordinate_descent(\n"
     ]
    },
    {
     "data": {
      "text/html": [
       "<div>\n",
       "<style scoped>\n",
       "    .dataframe tbody tr th:only-of-type {\n",
       "        vertical-align: middle;\n",
       "    }\n",
       "\n",
       "    .dataframe tbody tr th {\n",
       "        vertical-align: top;\n",
       "    }\n",
       "\n",
       "    .dataframe thead th {\n",
       "        text-align: right;\n",
       "    }\n",
       "</style>\n",
       "<table border=\"1\" class=\"dataframe\">\n",
       "  <thead>\n",
       "    <tr style=\"text-align: right;\">\n",
       "      <th></th>\n",
       "      <th>model</th>\n",
       "      <th>best_score</th>\n",
       "      <th>best_params</th>\n",
       "    </tr>\n",
       "  </thead>\n",
       "  <tbody>\n",
       "    <tr>\n",
       "      <th>0</th>\n",
       "      <td>linear_regression</td>\n",
       "      <td>0.536714</td>\n",
       "      <td>{}</td>\n",
       "    </tr>\n",
       "    <tr>\n",
       "      <th>1</th>\n",
       "      <td>lasso</td>\n",
       "      <td>0.536714</td>\n",
       "      <td>{'selection': 'cyclic'}</td>\n",
       "    </tr>\n",
       "    <tr>\n",
       "      <th>2</th>\n",
       "      <td>decision_tree</td>\n",
       "      <td>0.107831</td>\n",
       "      <td>{'splitter': 'random'}</td>\n",
       "    </tr>\n",
       "  </tbody>\n",
       "</table>\n",
       "</div>"
      ],
      "text/plain": [
       "               model  best_score              best_params\n",
       "0  linear_regression    0.536714                       {}\n",
       "1              lasso    0.536714  {'selection': 'cyclic'}\n",
       "2      decision_tree    0.107831   {'splitter': 'random'}"
      ]
     },
     "execution_count": 1944,
     "metadata": {},
     "output_type": "execute_result"
    }
   ],
   "source": [
    "from sklearn.model_selection import GridSearchCV, ShuffleSplit\n",
    "from sklearn.linear_model import LinearRegression, Lasso\n",
    "from sklearn.tree import DecisionTreeRegressor\n",
    "\n",
    "import pandas as pd\n",
    "\n",
    "def find_best_model_using_gridsearchcv(X,y):\n",
    "    algos = {\n",
    "        'linear_regression' : {\n",
    "            'model': LinearRegression(),\n",
    "            'params': { }\n",
    "        },\n",
    "        'lasso': {\n",
    "            'model': Lasso(max_iter=10000),\n",
    "            'params': {\n",
    "                'selection': ['random', 'cyclic']\n",
    "            }\n",
    "        },\n",
    "        'decision_tree': {\n",
    "            'model': DecisionTreeRegressor(),\n",
    "            'params': {\n",
    "             #   'criterion' : ['squared_error', 'friedman_mse', 'absolute_error', 'poisson'],\n",
    "                'splitter': ['best','random']\n",
    "            }\n",
    "        }\n",
    "    }\n",
    "    scores = []\n",
    "    cv = ShuffleSplit(n_splits=10, test_size=0.3, random_state=0)\n",
    "    #　↑　Cross Validation ShuffleSplit, which just randomly shuffle our sample\n",
    "    for algo_name, config in algos.items():\n",
    "        gs =  GridSearchCV(config['model'], config['params'], cv=cv, return_train_score=False)\n",
    "        gs.fit(X,y)\n",
    "        scores.append({\n",
    "            'model': algo_name,\n",
    "            'best_score': gs.best_score_,\n",
    "            'best_params': gs.best_params_\n",
    "        })\n",
    "\n",
    "    return pd.DataFrame(scores,columns=['model','best_score','best_params'])\n",
    "\n",
    "find_best_model_using_gridsearchcv(X,y)"
   ]
  },
  
  {
   "cell_type": "code",
   "execution_count": 1946,
   "id": "5c2e8aab-ae8c-4ae6-a736-e1d58ee5c566",
   "metadata": {},
   "outputs": [
    {
     "data": {
      "text/plain": [
       "Index(['Sqft', 'Structure', 'Setagaya', 'Nakano', 'Hachioji', 'Kita',\n",
       "       'Chiba Chuo', 'Shinagawa', 'Ota', 'Ichihara', 'Ichikawa', 'Bunkyo',\n",
       "       'Shinjuku', 'Hino', 'Suginami', 'Tokyo Fuchu', 'Matsudo', 'Itabashi',\n",
       "       'Kashiwa', 'Yokohama Totsuka', 'Yokohama Kohoku', 'Yokohama Konan',\n",
       "       'Edogawa', 'Shibuya', 'Minato', 'Machida', 'Meguro', 'Nerima',\n",
       "       'Funabashi', 'Katsushika', 'Chofu', 'Adachi', 'RC', 'S', 'W'],\n",
       "      dtype='object')"
      ]
     },
     "execution_count": 1946,
     "metadata": {},
     "output_type": "execute_result"
    }
   ],
   "source": [
    "X.columns"
   ]
  },
  {
   "cell_type": "markdown",
   "id": "73d5e4c7-a1e9-4d44-8ad4-679b15fb1dc4",
   "metadata": {},
   "source": [
    "## Test the model for few properties"
   ]
  },
  {
   "cell_type": "code",
   "execution_count": 1947,
   "id": "f8d822b8-8d30-4658-917b-3108042a8b8f",
   "metadata": {},
   "outputs": [],
   "source": [
    "# def predict_price(location, sqft, using, kouzou):    \n",
    "#     loc_index = np.where(X.columns==location)[0][0]\n",
    "#     size_index = np.where(X.columns==kouzou)[0][0]\n",
    "\n",
    "#     x = np.zeros(len(X.columns))\n",
    "#     x[0] = sqft\n",
    "#     x[1] = using\n",
    "#     if loc_index >= 0:\n",
    "#         x[loc_index] = 1\n",
    "#     if size_index >= 0:\n",
    "#         x[size_index] = 1\n",
    "\n",
    "#     return lr_clf.predict([x])[0]"
   ]
  },
  {
   "cell_type": "code",
   "execution_count": 1948,
   "id": "fc56b845-3720-41ad-bc60-98ccbc9b49c1",
   "metadata": {},
   "outputs": [],
   "source": [
    "def predict_price(location, sqft, using, kouzou):    \n",
    "    loc_index = np.where(X.columns==location)[0][0]\n",
    "    size_index = np.where(X.columns==kouzou)[0][0]\n",
    "\n",
    "    x = np.zeros(len(X.columns))\n",
    "    x[0] = sqft\n",
    "    x[1] = using\n",
    "    if loc_index >= 0:\n",
    "        x[loc_index] = 1\n",
    "    if size_index >= 0:\n",
    "        x[size_index] = 1\n",
    "\n",
    "    return dr.predict([x])[0]"
   ]
  },
  {
   "cell_type": "code",
   "execution_count": null,
   "id": "3585ef51-468f-451d-81a7-a0d2f9bb0b55",
   "metadata": {},
   "outputs": [],
   "source": []
  },
  {
   "cell_type": "code",
   "execution_count": 1949,
   "id": "7e84b4db-c02d-4824-b37e-b502973239a6",
   "metadata": {},
   "outputs": [
    {
     "name": "stderr",
     "output_type": "stream",
     "text": [
      "C:\\Users\\deymo\\anaconda3\\lib\\site-packages\\sklearn\\base.py:450: UserWarning: X does not have valid feature names, but DecisionTreeRegressor was fitted with feature names\n",
      "  warnings.warn(\n"
     ]
    },
    {
     "data": {
      "text/plain": [
       "89830000.0"
      ]
     },
     "execution_count": 1949,
     "metadata": {},
     "output_type": "execute_result"
    }
   ],
   "source": [
    "predict_price('Shinjuku', 130, 0, 'W')"
   ]
  },
  {
   "cell_type": "code",
   "execution_count": 1950,
   "id": "6ee24e2a-6311-4f79-9f70-84858c720d1d",
   "metadata": {},
   "outputs": [
    {
     "name": "stderr",
     "output_type": "stream",
     "text": [
      "C:\\Users\\deymo\\anaconda3\\lib\\site-packages\\sklearn\\base.py:450: UserWarning: X does not have valid feature names, but DecisionTreeRegressor was fitted with feature names\n",
      "  warnings.warn(\n"
     ]
    },
    {
     "data": {
      "text/plain": [
       "68432000.0"
      ]
     },
     "execution_count": 1950,
     "metadata": {},
     "output_type": "execute_result"
    }
   ],
   "source": [
    "predict_price('Shinagawa', 75, 0, 'W')"
   ]
  },
  {
   "cell_type": "code",
   "execution_count": 1951,
   "id": "5ede39d9-166b-4c6c-a5ef-a2d56006e218",
   "metadata": {},
   "outputs": [
    {
     "name": "stderr",
     "output_type": "stream",
     "text": [
      "C:\\Users\\deymo\\anaconda3\\lib\\site-packages\\sklearn\\base.py:450: UserWarning: X does not have valid feature names, but DecisionTreeRegressor was fitted with feature names\n",
      "  warnings.warn(\n"
     ]
    },
    {
     "data": {
      "text/plain": [
       "24400000.0"
      ]
     },
     "execution_count": 1951,
     "metadata": {},
     "output_type": "execute_result"
    }
   ],
   "source": [
    "predict_price('Adachi', 100, 0, 'W')"
   ]
  },
  {
   "cell_type": "markdown",
   "id": "2f141e48-9506-4e9f-9079-206d80a07965",
   "metadata": {},
   "source": [
    "## Export the tested model to a pickle file"
   ]
  },
  {
   "cell_type": "code",
   "execution_count": 1952,
   "id": "fae1fdb6-2b72-4340-a9f4-a739cd358c94",
   "metadata": {},
   "outputs": [],
   "source": [
    "import pickle\n",
    "with open('kantou_home_prices_model.pickle','wb') as f:\n",
    "    pickle.dump(dr,f)"
   ]
  },
  {
   "cell_type": "markdown",
   "id": "e4085268-1baf-461b-a93a-e43fc3e3cba0",
   "metadata": {},
   "source": [
    "## Export location and column information to a file that will be useful later on in our prediction application"
   ]
  },
  {
   "cell_type": "code",
   "execution_count": 1953,
   "id": "62413267-df66-4962-a71e-c38ee5fdeb9e",
   "metadata": {},
   "outputs": [],
   "source": [
    "import json\n",
    "columns = {\n",
    "    'data_columns' : [col.lower() for col in X.columns]\n",
    "}\n",
    "with open(\"columns.json\",\"w\") as f:\n",
    "    f.write(json.dumps(columns))"
   ]
  }
 ],
 "metadata": {
  "kernelspec": {
   "display_name": "Python 3 (ipykernel)",
   "language": "python",
   "name": "python3"
  },
  "language_info": {
   "codemirror_mode": {
    "name": "ipython",
    "version": 3
   },
   "file_extension": ".py",
   "mimetype": "text/x-python",
   "name": "python",
   "nbconvert_exporter": "python",
   "pygments_lexer": "ipython3",
   "version": "3.9.12"
  }
 },
 "nbformat": 4,
 "nbformat_minor": 5
}
